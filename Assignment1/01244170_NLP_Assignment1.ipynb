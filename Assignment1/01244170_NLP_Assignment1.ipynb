{
  "nbformat": 4,
  "nbformat_minor": 0,
  "metadata": {
    "colab": {
      "provenance": []
    },
    "kernelspec": {
      "name": "python3",
      "display_name": "Python 3"
    },
    "language_info": {
      "name": "python"
    }
  },
  "cells": [
    {
      "cell_type": "markdown",
      "source": [
        "#CS733: Module 1 Assignment: N-Grams\n",
        "\n",
        "AJ Broderick *(UIN 01244170)* \\\n",
        "abrod006@odu.edu \\"
      ],
      "metadata": {
        "id": "LXToTd-iMzR4"
      }
    },
    {
      "cell_type": "markdown",
      "source": [
        "##Import Libraries & Read Data"
      ],
      "metadata": {
        "id": "gTR15cKiM3X5"
      }
    },
    {
      "cell_type": "code",
      "execution_count": 1,
      "metadata": {
        "colab": {
          "base_uri": "https://localhost:8080/",
          "height": 0
        },
        "id": "1E3IKjdpGmoK",
        "outputId": "f7f8f1af-b9b7-45c9-ea67-17f3e3fb2a1f"
      },
      "outputs": [
        {
          "output_type": "stream",
          "name": "stderr",
          "text": [
            "[nltk_data] Downloading package punkt to /root/nltk_data...\n",
            "[nltk_data]   Unzipping tokenizers/punkt.zip.\n",
            "[nltk_data] Downloading package stopwords to /root/nltk_data...\n",
            "[nltk_data]   Unzipping corpora/stopwords.zip.\n"
          ]
        }
      ],
      "source": [
        "import pandas as pd\n",
        "import numpy as np\n",
        "\n",
        "import re\n",
        "import nltk\n",
        "from nltk.util import ngrams\n",
        "from nltk import word_tokenize\n",
        "nltk.download('punkt')\n",
        "nltk.download('stopwords')\n",
        "from nltk.corpus import stopwords\n",
        "\n",
        "from collections import Counter\n",
        "import matplotlib.pyplot as plt\n",
        "\n",
        "from sklearn.model_selection import train_test_split\n",
        "\n",
        "from tabulate import tabulate"
      ]
    },
    {
      "cell_type": "code",
      "source": [
        "url = 'https://raw.githubusercontent.com/aj-broderick/ODU-CS733/main/data/all-data.csv'\n",
        "data = pd.read_csv(url,encoding='latin-1')\n",
        "newsheadline = data['newsheadline']"
      ],
      "metadata": {
        "id": "lbsGbn2gNQqi"
      },
      "execution_count": 2,
      "outputs": []
    },
    {
      "cell_type": "markdown",
      "source": [
        "###Data Exploration"
      ],
      "metadata": {
        "id": "1iDJLGv0NUKn"
      }
    },
    {
      "cell_type": "markdown",
      "source": [
        "&emsp; Before the n-gram analysis is performed, a high level exploration of the data is performed to understand the data better. This includes looking at the columns of the dataset. There are two columns in the data, the headline of the article itself and the sentiment, that describes if the headline is positive, negative or netural in tone.\\\n",
        "&emsp; Using the `info()` function, the overall shape of the dataframe that is created is pulled. This is used later in the analysis to undestand how much data is in the overall dataset and to confirm the splitting of the data for training and testing."
      ],
      "metadata": {
        "id": "IIl_iUSaQim4"
      }
    },
    {
      "cell_type": "code",
      "source": [
        "data.head()"
      ],
      "metadata": {
        "colab": {
          "base_uri": "https://localhost:8080/",
          "height": 206
        },
        "id": "_yAn8auPNaPS",
        "outputId": "ed39b9c7-967d-4cca-9279-900de4978e27"
      },
      "execution_count": 3,
      "outputs": [
        {
          "output_type": "execute_result",
          "data": {
            "text/plain": [
              "  sentiment                                       newsheadline\n",
              "0   neutral  According to Gran , the company has no plans t...\n",
              "1   neutral  Technopolis plans to develop in stages an area...\n",
              "2  negative  The international electronic industry company ...\n",
              "3  positive  With the new production plant the company woul...\n",
              "4  positive  According to the company 's updated strategy f..."
            ],
            "text/html": [
              "\n",
              "  <div id=\"df-00ad7f02-b0e3-42de-9a37-6392998cb5e6\" class=\"colab-df-container\">\n",
              "    <div>\n",
              "<style scoped>\n",
              "    .dataframe tbody tr th:only-of-type {\n",
              "        vertical-align: middle;\n",
              "    }\n",
              "\n",
              "    .dataframe tbody tr th {\n",
              "        vertical-align: top;\n",
              "    }\n",
              "\n",
              "    .dataframe thead th {\n",
              "        text-align: right;\n",
              "    }\n",
              "</style>\n",
              "<table border=\"1\" class=\"dataframe\">\n",
              "  <thead>\n",
              "    <tr style=\"text-align: right;\">\n",
              "      <th></th>\n",
              "      <th>sentiment</th>\n",
              "      <th>newsheadline</th>\n",
              "    </tr>\n",
              "  </thead>\n",
              "  <tbody>\n",
              "    <tr>\n",
              "      <th>0</th>\n",
              "      <td>neutral</td>\n",
              "      <td>According to Gran , the company has no plans t...</td>\n",
              "    </tr>\n",
              "    <tr>\n",
              "      <th>1</th>\n",
              "      <td>neutral</td>\n",
              "      <td>Technopolis plans to develop in stages an area...</td>\n",
              "    </tr>\n",
              "    <tr>\n",
              "      <th>2</th>\n",
              "      <td>negative</td>\n",
              "      <td>The international electronic industry company ...</td>\n",
              "    </tr>\n",
              "    <tr>\n",
              "      <th>3</th>\n",
              "      <td>positive</td>\n",
              "      <td>With the new production plant the company woul...</td>\n",
              "    </tr>\n",
              "    <tr>\n",
              "      <th>4</th>\n",
              "      <td>positive</td>\n",
              "      <td>According to the company 's updated strategy f...</td>\n",
              "    </tr>\n",
              "  </tbody>\n",
              "</table>\n",
              "</div>\n",
              "    <div class=\"colab-df-buttons\">\n",
              "\n",
              "  <div class=\"colab-df-container\">\n",
              "    <button class=\"colab-df-convert\" onclick=\"convertToInteractive('df-00ad7f02-b0e3-42de-9a37-6392998cb5e6')\"\n",
              "            title=\"Convert this dataframe to an interactive table.\"\n",
              "            style=\"display:none;\">\n",
              "\n",
              "  <svg xmlns=\"http://www.w3.org/2000/svg\" height=\"24px\" viewBox=\"0 -960 960 960\">\n",
              "    <path d=\"M120-120v-720h720v720H120Zm60-500h600v-160H180v160Zm220 220h160v-160H400v160Zm0 220h160v-160H400v160ZM180-400h160v-160H180v160Zm440 0h160v-160H620v160ZM180-180h160v-160H180v160Zm440 0h160v-160H620v160Z\"/>\n",
              "  </svg>\n",
              "    </button>\n",
              "\n",
              "  <style>\n",
              "    .colab-df-container {\n",
              "      display:flex;\n",
              "      gap: 12px;\n",
              "    }\n",
              "\n",
              "    .colab-df-convert {\n",
              "      background-color: #E8F0FE;\n",
              "      border: none;\n",
              "      border-radius: 50%;\n",
              "      cursor: pointer;\n",
              "      display: none;\n",
              "      fill: #1967D2;\n",
              "      height: 32px;\n",
              "      padding: 0 0 0 0;\n",
              "      width: 32px;\n",
              "    }\n",
              "\n",
              "    .colab-df-convert:hover {\n",
              "      background-color: #E2EBFA;\n",
              "      box-shadow: 0px 1px 2px rgba(60, 64, 67, 0.3), 0px 1px 3px 1px rgba(60, 64, 67, 0.15);\n",
              "      fill: #174EA6;\n",
              "    }\n",
              "\n",
              "    .colab-df-buttons div {\n",
              "      margin-bottom: 4px;\n",
              "    }\n",
              "\n",
              "    [theme=dark] .colab-df-convert {\n",
              "      background-color: #3B4455;\n",
              "      fill: #D2E3FC;\n",
              "    }\n",
              "\n",
              "    [theme=dark] .colab-df-convert:hover {\n",
              "      background-color: #434B5C;\n",
              "      box-shadow: 0px 1px 3px 1px rgba(0, 0, 0, 0.15);\n",
              "      filter: drop-shadow(0px 1px 2px rgba(0, 0, 0, 0.3));\n",
              "      fill: #FFFFFF;\n",
              "    }\n",
              "  </style>\n",
              "\n",
              "    <script>\n",
              "      const buttonEl =\n",
              "        document.querySelector('#df-00ad7f02-b0e3-42de-9a37-6392998cb5e6 button.colab-df-convert');\n",
              "      buttonEl.style.display =\n",
              "        google.colab.kernel.accessAllowed ? 'block' : 'none';\n",
              "\n",
              "      async function convertToInteractive(key) {\n",
              "        const element = document.querySelector('#df-00ad7f02-b0e3-42de-9a37-6392998cb5e6');\n",
              "        const dataTable =\n",
              "          await google.colab.kernel.invokeFunction('convertToInteractive',\n",
              "                                                    [key], {});\n",
              "        if (!dataTable) return;\n",
              "\n",
              "        const docLinkHtml = 'Like what you see? Visit the ' +\n",
              "          '<a target=\"_blank\" href=https://colab.research.google.com/notebooks/data_table.ipynb>data table notebook</a>'\n",
              "          + ' to learn more about interactive tables.';\n",
              "        element.innerHTML = '';\n",
              "        dataTable['output_type'] = 'display_data';\n",
              "        await google.colab.output.renderOutput(dataTable, element);\n",
              "        const docLink = document.createElement('div');\n",
              "        docLink.innerHTML = docLinkHtml;\n",
              "        element.appendChild(docLink);\n",
              "      }\n",
              "    </script>\n",
              "  </div>\n",
              "\n",
              "\n",
              "<div id=\"df-ed298e34-b4c8-4b3c-b817-4cf5cd0660fc\">\n",
              "  <button class=\"colab-df-quickchart\" onclick=\"quickchart('df-ed298e34-b4c8-4b3c-b817-4cf5cd0660fc')\"\n",
              "            title=\"Suggest charts\"\n",
              "            style=\"display:none;\">\n",
              "\n",
              "<svg xmlns=\"http://www.w3.org/2000/svg\" height=\"24px\"viewBox=\"0 0 24 24\"\n",
              "     width=\"24px\">\n",
              "    <g>\n",
              "        <path d=\"M19 3H5c-1.1 0-2 .9-2 2v14c0 1.1.9 2 2 2h14c1.1 0 2-.9 2-2V5c0-1.1-.9-2-2-2zM9 17H7v-7h2v7zm4 0h-2V7h2v10zm4 0h-2v-4h2v4z\"/>\n",
              "    </g>\n",
              "</svg>\n",
              "  </button>\n",
              "\n",
              "<style>\n",
              "  .colab-df-quickchart {\n",
              "      --bg-color: #E8F0FE;\n",
              "      --fill-color: #1967D2;\n",
              "      --hover-bg-color: #E2EBFA;\n",
              "      --hover-fill-color: #174EA6;\n",
              "      --disabled-fill-color: #AAA;\n",
              "      --disabled-bg-color: #DDD;\n",
              "  }\n",
              "\n",
              "  [theme=dark] .colab-df-quickchart {\n",
              "      --bg-color: #3B4455;\n",
              "      --fill-color: #D2E3FC;\n",
              "      --hover-bg-color: #434B5C;\n",
              "      --hover-fill-color: #FFFFFF;\n",
              "      --disabled-bg-color: #3B4455;\n",
              "      --disabled-fill-color: #666;\n",
              "  }\n",
              "\n",
              "  .colab-df-quickchart {\n",
              "    background-color: var(--bg-color);\n",
              "    border: none;\n",
              "    border-radius: 50%;\n",
              "    cursor: pointer;\n",
              "    display: none;\n",
              "    fill: var(--fill-color);\n",
              "    height: 32px;\n",
              "    padding: 0;\n",
              "    width: 32px;\n",
              "  }\n",
              "\n",
              "  .colab-df-quickchart:hover {\n",
              "    background-color: var(--hover-bg-color);\n",
              "    box-shadow: 0 1px 2px rgba(60, 64, 67, 0.3), 0 1px 3px 1px rgba(60, 64, 67, 0.15);\n",
              "    fill: var(--button-hover-fill-color);\n",
              "  }\n",
              "\n",
              "  .colab-df-quickchart-complete:disabled,\n",
              "  .colab-df-quickchart-complete:disabled:hover {\n",
              "    background-color: var(--disabled-bg-color);\n",
              "    fill: var(--disabled-fill-color);\n",
              "    box-shadow: none;\n",
              "  }\n",
              "\n",
              "  .colab-df-spinner {\n",
              "    border: 2px solid var(--fill-color);\n",
              "    border-color: transparent;\n",
              "    border-bottom-color: var(--fill-color);\n",
              "    animation:\n",
              "      spin 1s steps(1) infinite;\n",
              "  }\n",
              "\n",
              "  @keyframes spin {\n",
              "    0% {\n",
              "      border-color: transparent;\n",
              "      border-bottom-color: var(--fill-color);\n",
              "      border-left-color: var(--fill-color);\n",
              "    }\n",
              "    20% {\n",
              "      border-color: transparent;\n",
              "      border-left-color: var(--fill-color);\n",
              "      border-top-color: var(--fill-color);\n",
              "    }\n",
              "    30% {\n",
              "      border-color: transparent;\n",
              "      border-left-color: var(--fill-color);\n",
              "      border-top-color: var(--fill-color);\n",
              "      border-right-color: var(--fill-color);\n",
              "    }\n",
              "    40% {\n",
              "      border-color: transparent;\n",
              "      border-right-color: var(--fill-color);\n",
              "      border-top-color: var(--fill-color);\n",
              "    }\n",
              "    60% {\n",
              "      border-color: transparent;\n",
              "      border-right-color: var(--fill-color);\n",
              "    }\n",
              "    80% {\n",
              "      border-color: transparent;\n",
              "      border-right-color: var(--fill-color);\n",
              "      border-bottom-color: var(--fill-color);\n",
              "    }\n",
              "    90% {\n",
              "      border-color: transparent;\n",
              "      border-bottom-color: var(--fill-color);\n",
              "    }\n",
              "  }\n",
              "</style>\n",
              "\n",
              "  <script>\n",
              "    async function quickchart(key) {\n",
              "      const quickchartButtonEl =\n",
              "        document.querySelector('#' + key + ' button');\n",
              "      quickchartButtonEl.disabled = true;  // To prevent multiple clicks.\n",
              "      quickchartButtonEl.classList.add('colab-df-spinner');\n",
              "      try {\n",
              "        const charts = await google.colab.kernel.invokeFunction(\n",
              "            'suggestCharts', [key], {});\n",
              "      } catch (error) {\n",
              "        console.error('Error during call to suggestCharts:', error);\n",
              "      }\n",
              "      quickchartButtonEl.classList.remove('colab-df-spinner');\n",
              "      quickchartButtonEl.classList.add('colab-df-quickchart-complete');\n",
              "    }\n",
              "    (() => {\n",
              "      let quickchartButtonEl =\n",
              "        document.querySelector('#df-ed298e34-b4c8-4b3c-b817-4cf5cd0660fc button');\n",
              "      quickchartButtonEl.style.display =\n",
              "        google.colab.kernel.accessAllowed ? 'block' : 'none';\n",
              "    })();\n",
              "  </script>\n",
              "</div>\n",
              "\n",
              "    </div>\n",
              "  </div>\n"
            ],
            "application/vnd.google.colaboratory.intrinsic+json": {
              "type": "dataframe",
              "variable_name": "data",
              "summary": "{\n  \"name\": \"data\",\n  \"rows\": 4846,\n  \"fields\": [\n    {\n      \"column\": \"sentiment\",\n      \"properties\": {\n        \"dtype\": \"category\",\n        \"num_unique_values\": 3,\n        \"samples\": [\n          \"neutral\",\n          \"negative\",\n          \"positive\"\n        ],\n        \"semantic_type\": \"\",\n        \"description\": \"\"\n      }\n    },\n    {\n      \"column\": \"newsheadline\",\n      \"properties\": {\n        \"dtype\": \"string\",\n        \"num_unique_values\": 4838,\n        \"samples\": [\n          \"The Company serves approximately 3,000 customers in over 100 countries .\",\n          \"On Dec. 1 , Grimaldi acquired 1.5 million shares and a 50.1-percent stake in Finnlines .\",\n          \"The extracted filtrates are very high in clarity while the dried filter cakes meet required transport moisture limits (TMLs)for their ore grades .\"\n        ],\n        \"semantic_type\": \"\",\n        \"description\": \"\"\n      }\n    }\n  ]\n}"
            }
          },
          "metadata": {},
          "execution_count": 3
        }
      ]
    },
    {
      "cell_type": "code",
      "source": [
        "data.info()"
      ],
      "metadata": {
        "colab": {
          "base_uri": "https://localhost:8080/",
          "height": 0
        },
        "id": "WZ5XAel1NfGO",
        "outputId": "241461c1-1894-458d-b7de-291e0c07ad3c"
      },
      "execution_count": 4,
      "outputs": [
        {
          "output_type": "stream",
          "name": "stdout",
          "text": [
            "<class 'pandas.core.frame.DataFrame'>\n",
            "RangeIndex: 4846 entries, 0 to 4845\n",
            "Data columns (total 2 columns):\n",
            " #   Column        Non-Null Count  Dtype \n",
            "---  ------        --------------  ----- \n",
            " 0   sentiment     4846 non-null   object\n",
            " 1   newsheadline  4846 non-null   object\n",
            "dtypes: object(2)\n",
            "memory usage: 75.8+ KB\n"
          ]
        }
      ]
    },
    {
      "cell_type": "markdown",
      "source": [
        "##Task 1: N-gram Generation"
      ],
      "metadata": {
        "id": "qomJUbS1NnHT"
      }
    },
    {
      "cell_type": "markdown",
      "source": [
        "###Extract N-grams"
      ],
      "metadata": {
        "id": "n3nRYkzPNpsR"
      }
    },
    {
      "cell_type": "markdown",
      "source": [
        "&emsp; For this analysis three level of n-grams will be utilized. The unigrams, bigram, and trigrams will give a good representation of the financial news headlines. To start, a function is first created that can take the news headlines into the different n-grams. \\\n",
        "&emsp; For the purpose of this analysis a few features were programmed into the fucntion. The first was doing a regex replace on all of the punctuation and special characters of the headline. These are not needed for the n-grams and would add unwanted data into the model. The regex also removes all numeric values from the headlines. This was done to simplify the dataset, since the model is working with financial news there is a chance many would include titles such as 'Company X has grown 15% in the last quarter'. Having all the different numeric values in the model would add complexity that is not needed. The other feature of the model is to remove the stops words from the new headlines as well.\\\n",
        "&emsp; Once the function is created, it is applied to the dataset to count the number of times each of the n-grams appear in the news headline. Utilzing the `Counter()` function, a counter subset is created for the unigrams, bigrams and trigrams."
      ],
      "metadata": {
        "id": "6MlEFqh_TRJ6"
      }
    },
    {
      "cell_type": "code",
      "source": [
        "# Function to generate n-grams\n",
        "def generate_ngrams(headlines, n):\n",
        "    ngram_list = []\n",
        "    for headline in headlines:\n",
        "        headline = re.sub('[^a-zA-Z ]', '', str(headline))\n",
        "        regex = re.compile('[^a-zA-Z ]')\n",
        "        stop_words = set(stopwords.words('english'))\n",
        "        tokens = regex.sub('', headline)\n",
        "        tokens = tokens.lower()\n",
        "        tokens = nltk.word_tokenize(tokens)\n",
        "        tokens = [word for word in tokens if word not in stop_words]\n",
        "        ngram_list.extend(ngrams(tokens, n))\n",
        "    return ngram_list\n",
        "\n",
        "def ngrams_tuple(headlines, n):\n",
        "    headline = re.sub('[^a-zA-Z ]', '', str(headlines))\n",
        "    regex = re.compile('[^a-zA-Z ]')\n",
        "    stop_words = set(stopwords.words('english'))\n",
        "    tokens = regex.sub('', headline)\n",
        "    tokens = tokens.lower()\n",
        "    tokens = nltk.word_tokenize(tokens)\n",
        "    tokens = [word for word in tokens if word not in stop_words]\n",
        "    return list(ngrams(tokens, n))"
      ],
      "metadata": {
        "id": "LyCwVwlCGt2c"
      },
      "execution_count": 5,
      "outputs": []
    },
    {
      "cell_type": "code",
      "source": [
        "# Apply function to create n-gram lists\n",
        "unigrams = generate_ngrams(newsheadline, 1)\n",
        "bigrams = generate_ngrams(newsheadline, 2)\n",
        "trigrams = generate_ngrams(newsheadline, 3)\n",
        "\n",
        "# Create Counter from n-gram lists\n",
        "unigram_freq = Counter(unigrams)\n",
        "bigram_freq = Counter(bigrams)\n",
        "trigram_freq = Counter(trigrams)\n",
        "\n",
        "# Create dictionaries from n-gram lists\n",
        "unigram_dict = {ngram: count for ngram, count in unigram_freq.items()}\n",
        "bigram_dict = {ngram: count for ngram, count in bigram_freq.items()}\n",
        "trigram_dict = {ngram: count for ngram, count in trigram_freq.items()}"
      ],
      "metadata": {
        "id": "MArPvflMM79H"
      },
      "execution_count": 6,
      "outputs": []
    },
    {
      "cell_type": "markdown",
      "source": [
        "###Frequnecy Analysis"
      ],
      "metadata": {
        "id": "3AgCw7_NN2FH"
      }
    },
    {
      "cell_type": "markdown",
      "source": [
        "&emsp; Once each of the n-grams is created, a DataFrame for each is also created. The DataFrame is sorted on the count of the n-grams, and then the data is reindexed to ensure the data is sorted correctly. This is done primarily to assist in presenting the top words/tuples that appears in the news headlines. To present the top n-grams, the `head()` function is used to pull the 10 n-grams."
      ],
      "metadata": {
        "id": "cjHdUEwDUeDE"
      }
    },
    {
      "cell_type": "code",
      "source": [
        "#Unigram DataFrame\n",
        "unigram_df = pd.DataFrame.from_dict(unigram_freq, orient='index').reset_index()\n",
        "unigram_df = unigram_df.rename(columns={\"index\": \"unigram\",0: \"frequency\"})\n",
        "unigram_df = unigram_df.sort_values(by=['frequency'], ascending=False).reset_index()\n",
        "unigram_df = unigram_df.drop(['index'], axis=1)\n",
        "\n",
        "#Bigram DataFrame\n",
        "bigram_df = pd.DataFrame.from_dict(bigram_freq, orient='index').reset_index()\n",
        "bigram_df = bigram_df.rename(columns={\"index\": \"bigram\",0: \"frequency\"})\n",
        "bigram_df = bigram_df.sort_values(by=['frequency'], ascending=False).reset_index()\n",
        "bigram_df = bigram_df.drop(['index'], axis=1)\n",
        "\n",
        "#Trigram DataFrame\n",
        "trigram_df = pd.DataFrame.from_dict(trigram_freq, orient='index').reset_index()\n",
        "trigram_df = trigram_df.rename(columns={\"index\": \"trigram\",0: \"frequency\"})\n",
        "trigram_df = trigram_df.sort_values(by=['frequency'], ascending=False).reset_index()\n",
        "trigram_df = trigram_df.drop(['index'], axis=1)"
      ],
      "metadata": {
        "id": "U3jIlTTFN5zA"
      },
      "execution_count": 7,
      "outputs": []
    },
    {
      "cell_type": "code",
      "source": [
        "print(unigram_df.head(10))"
      ],
      "metadata": {
        "colab": {
          "base_uri": "https://localhost:8080/",
          "height": 0
        },
        "id": "emssWMMNOrvA",
        "outputId": "10b6d86c-29ae-4941-e9eb-213f49d7dbf5"
      },
      "execution_count": 8,
      "outputs": [
        {
          "output_type": "stream",
          "name": "stdout",
          "text": [
            "      unigram  frequency\n",
            "0      (eur,)       1310\n",
            "1  (company,)        848\n",
            "2       (mn,)        593\n",
            "3     (said,)        544\n",
            "4  (finnish,)        512\n",
            "5    (sales,)        453\n",
            "6  (million,)        441\n",
            "7      (net,)        412\n",
            "8   (profit,)        409\n",
            "9  (finland,)        337\n"
          ]
        }
      ]
    },
    {
      "cell_type": "code",
      "source": [
        "print(bigram_df.head(10))"
      ],
      "metadata": {
        "colab": {
          "base_uri": "https://localhost:8080/",
          "height": 0
        },
        "id": "WD45M9HsVIo3",
        "outputId": "c931267f-fd37-4b39-d399-82c37d51892a"
      },
      "execution_count": 9,
      "outputs": [
        {
          "output_type": "stream",
          "name": "stdout",
          "text": [
            "                    bigram  frequency\n",
            "0                (eur, mn)        554\n",
            "1             (net, sales)        246\n",
            "2           (eur, million)        219\n",
            "3      (operating, profit)        194\n",
            "4                (mn, eur)        143\n",
            "5              (euro, mln)        109\n",
            "6  (corresponding, period)        108\n",
            "7              (mln, euro)        107\n",
            "8            (net, profit)         93\n",
            "9            (said, today)         85\n"
          ]
        }
      ]
    },
    {
      "cell_type": "code",
      "source": [
        "print(trigram_df.head(10))"
      ],
      "metadata": {
        "colab": {
          "base_uri": "https://localhost:8080/",
          "height": 0
        },
        "id": "BkPjmUtxVK_0",
        "outputId": "6cd4c664-5f0d-41fe-f1f2-7fbfd1b980a3"
      },
      "execution_count": 10,
      "outputs": [
        {
          "output_type": "stream",
          "name": "stdout",
          "text": [
            "                       trigram  frequency\n",
            "0                (mn, eur, mn)        141\n",
            "1               (eur, mn, eur)        138\n",
            "2             (mln, euro, mln)        103\n",
            "3     (eur, mn, corresponding)         59\n",
            "4  (mn, corresponding, period)         59\n",
            "5          (eur, mn, compared)         46\n",
            "6            (profit, eur, mn)         45\n",
            "7            (net, sales, eur)         44\n",
            "8          (totalled, eur, mn)         43\n",
            "9          (eur, million, usd)         41\n"
          ]
        }
      ]
    },
    {
      "cell_type": "markdown",
      "source": [
        "###Visualization of N-grams"
      ],
      "metadata": {
        "id": "_EuH1uKzN6ph"
      }
    },
    {
      "cell_type": "markdown",
      "source": [
        "&emsp; Utilizing the DataFrame created in the previous section along with MatPlobLib, a visual is created to display the top n-grams for the unigram, bigram & trigrams. To create an easy to read chart of the top n-grams, subplots are used to show each of the created bar-chart side by side.   "
      ],
      "metadata": {
        "id": "i58SzmgIVo82"
      }
    },
    {
      "cell_type": "code",
      "source": [
        "#Create subplots\n",
        "fig, axs = plt.subplots(1, 3, figsize=(15, 4))\n",
        "\n",
        "#Unigram barchart\n",
        "uni = plt.subplot(1,3,1)\n",
        "uni.set_title('Unigram Frequnecy', fontsize = 'medium')\n",
        "unigram_df[:10].plot(x='unigram', y='frequency', kind='bar', ax=axs[0])\n",
        "#Bigram barchart\n",
        "bi = plt.subplot(1,3,2)\n",
        "bi.set_title('Bigram Frequnecy', fontsize = 'medium')\n",
        "bigram_df[:10].plot(x='bigram', y='frequency', kind='bar', ax=axs[1], color=\"tomato\")\n",
        "#Trigram barchart\n",
        "tri = plt.subplot(1,3,3)\n",
        "tri.set_title('Trigram Frequnecy', fontsize = 'medium')\n",
        "trigram_df[:10].plot(x='trigram', y='frequency', kind='bar', ax=axs[2], color=\"goldenrod\")\n",
        "\n",
        "#Remove legends from each of the barcharts\n",
        "axs[0].get_legend().remove()\n",
        "axs[1].get_legend().remove()\n",
        "axs[2].get_legend().remove()\n",
        "\n",
        "#Final subplot chart\n",
        "fig.suptitle(\"Financial News Headline Top 10 N-Grams\", fontsize = 'x-large', fontstyle = 'italic')\n",
        "plt.show()"
      ],
      "metadata": {
        "colab": {
          "base_uri": "https://localhost:8080/",
          "height": 608
        },
        "id": "doNSpQVCN_IZ",
        "outputId": "ab395e92-daaa-4b12-fe6a-efd340473935"
      },
      "execution_count": 11,
      "outputs": [
        {
          "output_type": "display_data",
          "data": {
            "text/plain": [
              "<Figure size 1500x400 with 3 Axes>"
            ],
            "image/png": "[encoded data removed]"
          },
          "metadata": {}
        }
      ]
    },
    {
      "cell_type": "markdown",
      "source": [
        "##Task 2: N-Gram Modeling"
      ],
      "metadata": {
        "id": "tYnpvGFCPAhz"
      }
    },
    {
      "cell_type": "markdown",
      "source": [
        "### Data Splitting"
      ],
      "metadata": {
        "id": "IEvddhC8PEUY"
      }
    },
    {
      "cell_type": "markdown",
      "source": [
        "&emsp; Now the some of the preliminary understand of the data is complete the next step is to create the models. To create the models, the data is split into the training set and the testing set. To ensure that a good representation of all of the new headlines, an additional input of the `train_test_split` is included. This input is the `stratisfy` function. By including it, and applying it to the column for the news headline sentiment, and using a test size of 20%, the training data will include loop through each of the sentiments and pull 80% of each to use in the training set."
      ],
      "metadata": {
        "id": "_HWW7RoPW4aQ"
      }
    },
    {
      "cell_type": "code",
      "source": [
        "#Create training and testing datasets\n",
        "X_train, X_test = train_test_split(data['newsheadline'], test_size=0.2, random_state=42, stratify=data['sentiment'])"
      ],
      "metadata": {
        "id": "3tQxOKZfAHmE"
      },
      "execution_count": 12,
      "outputs": []
    },
    {
      "cell_type": "markdown",
      "source": [
        "### Model Training"
      ],
      "metadata": {
        "id": "ws7mEYs6PKbi"
      }
    },
    {
      "cell_type": "markdown",
      "source": [
        "&emsp; Before the model can be train, a function needs to be developed that breaks down each of the sentences in the data, and returns the conditional probability of all of the n-grams in that sentence. The function is slightly over developed since the model is only working with unigram, bigram & trigrams. Because of this the function looks for each *n* of 1, 2 & 3."
      ],
      "metadata": {
        "id": "HadZ4zBXCKZR"
      }
    },
    {
      "cell_type": "code",
      "source": [
        "def calc_probabilities(ngrams, n):\n",
        "  for x in ngrams.items():\n",
        "    text = x[0]\n",
        "    def dtext(text):\n",
        "        if n == 1:\n",
        "          return text[0]\n",
        "        if n == 2:\n",
        "          return text[0],\n",
        "        if n == 3:\n",
        "          return tuple([text[0],text[1]])\n",
        "    def dict_lookup(n):\n",
        "      if n == 1:\n",
        "        return train_unigram_dict\n",
        "      if n == 2:\n",
        "        return train_bigram_dict\n",
        "      if n == 3:\n",
        "        return train_trigram_dict\n",
        "    def numerator(text):\n",
        "      try:\n",
        "          return dict_lookup(n)[text]\n",
        "      except:\n",
        "          return 0\n",
        "    def denominator(text):\n",
        "      try:\n",
        "        if n == 1:\n",
        "          return sum(dict_lookup(n).values())\n",
        "        else:\n",
        "          return dict_lookup(n-1)[dtext(text)]\n",
        "      except:\n",
        "          return 0\n",
        "    def probability(text):\n",
        "      if denominator(text) == 0:\n",
        "        return 0\n",
        "      else :\n",
        "        return(round(numerator(text) / denominator(text),6))\n",
        "  return {ngram: probability(ngram) for ngram, count in ngrams.items()}"
      ],
      "metadata": {
        "id": "ePsMUfDhALOX"
      },
      "execution_count": 13,
      "outputs": []
    },
    {
      "cell_type": "markdown",
      "source": [
        "&emsp; Recreate the Counter and dictionary on the training set of the data. These will be referenced in the creation of the model."
      ],
      "metadata": {
        "id": "tencS-ZKCQE7"
      }
    },
    {
      "cell_type": "code",
      "source": [
        "# Apply function to create n-gram lists\n",
        "train_unigrams = generate_ngrams(X_train, 1)\n",
        "train_bigrams = generate_ngrams(X_train, 2)\n",
        "train_trigrams = generate_ngrams(X_train, 3)\n",
        "\n",
        "# Create Counter from n-gram lists\n",
        "train_unigram_freq = Counter(train_unigrams)\n",
        "train_bigram_freq = Counter(train_bigrams)\n",
        "train_trigram_freq = Counter(train_trigrams)\n",
        "\n",
        "# Create dictionaries from n-gram lists\n",
        "train_unigram_dict = {ngram: count for ngram, count in train_unigram_freq.items()}\n",
        "train_bigram_dict = {ngram: count for ngram, count in train_bigram_freq.items()}\n",
        "train_trigram_dict = {ngram: count for ngram, count in train_trigram_freq.items()}"
      ],
      "metadata": {
        "id": "RrcU6-DOPOEb"
      },
      "execution_count": 14,
      "outputs": []
    },
    {
      "cell_type": "markdown",
      "source": [
        "&emsp; Finally by utilizing the function that calculates the conditional probability and the dictionary of the trained n-gram frequencies, the model is created."
      ],
      "metadata": {
        "id": "Vm4AG4hLCre_"
      }
    },
    {
      "cell_type": "code",
      "source": [
        "unigram_model = calc_probabilities(train_unigram_freq, 1)\n",
        "bigram_model = calc_probabilities(train_bigram_freq, 2)\n",
        "trigram_model = calc_probabilities(train_trigram_freq, 3)"
      ],
      "metadata": {
        "id": "1uAEjW22ISM7"
      },
      "execution_count": 15,
      "outputs": []
    },
    {
      "cell_type": "markdown",
      "source": [
        "### Perplexity Calculation"
      ],
      "metadata": {
        "id": "kTWqBSQiwEIT"
      }
    },
    {
      "cell_type": "markdown",
      "source": [
        "&emsp; Now that the model is created, it needs to be evaluted in how well it understands the data given the number of n-grams it uses. To do this the ***perplexity*** needs to be calclauted, and to accomplish a function is created. The function first computes the overall sentence probability, which is accomplished by applying Markovian assumptions of multiplying each n-gram probability together to output a sentence probability. The sentence probability is then fed into the remaining formula of the perplexity calculation (given below)\n",
        "\n",
        "<div align=\"center\">\n",
        "\n",
        "$$ perplexity(W) = \\sqrt[N]{\\prod_{i=1}^{N}\\frac{1}{P(w_{i}|w_{1},\\dots,w_{i-1})}}$$\n",
        "\n",
        "</div>"
      ],
      "metadata": {
        "id": "LjBYI1XmCueq"
      }
    },
    {
      "cell_type": "code",
      "source": [
        "def calculate_perplexity(data, model, n):\n",
        "  for sentence in data:\n",
        "    prob = 1\n",
        "    for gram in generate_ngrams(data,n):\n",
        "      N = len(generate_ngrams(data,n))\n",
        "      p = model.get(gram,0)\n",
        "      prob = prob * p\n",
        "      perplexity = round(pow((1/prob),(1/N)),2) if prob > 0 else 999999\n",
        "    return perplexity"
      ],
      "metadata": {
        "id": "r4c-yr_iQk22"
      },
      "execution_count": 16,
      "outputs": []
    },
    {
      "cell_type": "markdown",
      "source": [
        "### Comparison"
      ],
      "metadata": {
        "id": "d12qF2xwwHuq"
      }
    },
    {
      "cell_type": "markdown",
      "source": [
        "&emsp; From here, the perplexity function is then applied to each sentence in the test dataset for each of the n-gram models that is being evaluated. The output of the sentence perplexity is stored in a new series. A final equation computes the average perplexity for each sentence to give an overall perplexity for the n-gram model.\\\n",
        "&emsp; From the data below, the **unigram** model is the best, given it's lower perplexity. This is potentially from the number of unseen n-grams that are apparent in the bigram & trigrams test sets."
      ],
      "metadata": {
        "id": "EmY7JEtBDIGw"
      }
    },
    {
      "cell_type": "code",
      "source": [
        "unigram_pp = X_test.apply(lambda t: calculate_perplexity(ngrams_tuple(t,1),unigram_model,1))\n",
        "bigram_pp = X_test.apply(lambda t: calculate_perplexity(ngrams_tuple(t,2),bigram_model,2))\n",
        "trigram_pp = X_test.apply(lambda t: calculate_perplexity(ngrams_tuple(t,3),trigram_model,3))"
      ],
      "metadata": {
        "id": "faXmyrOzl8kl"
      },
      "execution_count": 17,
      "outputs": []
    },
    {
      "cell_type": "code",
      "source": [
        "print(tabulate([['Unigram', unigram_pp.mean()], ['Bigram', bigram_pp.mean()],  ['Trigram', trigram_pp.mean()]], headers=['Model', 'Perplexity'], tablefmt='orgtbl'))"
      ],
      "metadata": {
        "colab": {
          "base_uri": "https://localhost:8080/",
          "height": 0
        },
        "id": "ftQi9fhHJ7Ej",
        "outputId": "bb6df152-8ebd-4ec4-e970-3fa95e59c994"
      },
      "execution_count": 18,
      "outputs": [
        {
          "output_type": "stream",
          "name": "stdout",
          "text": [
            "| Model   |   Perplexity |\n",
            "|---------+--------------|\n",
            "| Unigram |       526645 |\n",
            "| Bigram  |       924587 |\n",
            "| Trigram |       950412 |\n"
          ]
        }
      ]
    },
    {
      "cell_type": "markdown",
      "source": [
        "## Task 3: Handling Unseen N-Grams"
      ],
      "metadata": {
        "id": "DhkigmENwMyk"
      }
    },
    {
      "cell_type": "markdown",
      "source": [
        "### Implement Laplace Smoothing"
      ],
      "metadata": {
        "id": "bX4Cq4mvwKM3"
      }
    },
    {
      "cell_type": "markdown",
      "source": [
        "&emsp; As mentioned before, there is the possibility that the test set has unseen n-grams, most noticably with the bigrams and trigrams. To address this, and hopefully create a better model, the data will be smoothed. For this analysis the data will be smoothed with a Laplace (add-one) smoothing.\n",
        "\n",
        "&emsp; A function is created that will apply the Laplace smoothing to the datasets. For example, the bigram model follows the smoothing equation:\n",
        "<div align=\"center\">\n",
        "\n",
        "$$ P_{Laplace}(w_{n}|w_{n-1}) = \\frac{C(w_{n-1}w_{n})+1}{C(w_{n-1})+V}$$\n",
        "\n",
        "</div>"
      ],
      "metadata": {
        "id": "8xQ-D9SRDmAN"
      }
    },
    {
      "cell_type": "code",
      "source": [
        "def laplace_smoothing(data , n):\n",
        "  grams = Counter(generate_ngrams(data, n))\n",
        "  for x in grams:\n",
        "    def v_lookup(n):\n",
        "        if n == 1:\n",
        "          return unigram_dict\n",
        "        if n == 2:\n",
        "          return bigram_dict\n",
        "        if n == 3:\n",
        "          return trigram_dict\n",
        "    def d_lookup(n):\n",
        "        if n == 1:\n",
        "          return train_unigram_dict\n",
        "        if n == 2:\n",
        "          return train_bigram_dict\n",
        "        if n == 3:\n",
        "          return train_trigram_dict\n",
        "    def prob(x):\n",
        "      p = d_lookup(n).get(x,0)+1\n",
        "      d = sum(d_lookup(n).values())\n",
        "      v = sum(v_lookup(n).values())\n",
        "      return p / (d+v)\n",
        "  return {ngram: prob(ngram) for ngram in grams.keys()}"
      ],
      "metadata": {
        "id": "I9ETtMn3R81_"
      },
      "execution_count": 19,
      "outputs": []
    },
    {
      "cell_type": "markdown",
      "source": [
        "&emsp; A new model, denoted by the prefix of `smooth_` is created for each of n-gram that is being evaluated."
      ],
      "metadata": {
        "id": "dsT6YqzzEQ0K"
      }
    },
    {
      "cell_type": "code",
      "source": [
        "smooth_unigram_model = laplace_smoothing(data['newsheadline'], 1)\n",
        "smooth_bigram_model = laplace_smoothing(data['newsheadline'], 2)\n",
        "smooth_trigram_model = laplace_smoothing(data['newsheadline'], 3)"
      ],
      "metadata": {
        "id": "A8402SSjSqrH"
      },
      "execution_count": 20,
      "outputs": []
    },
    {
      "cell_type": "markdown",
      "source": [
        "### Recalculate Perplexity"
      ],
      "metadata": {
        "id": "gvvhNODxwSFZ"
      }
    },
    {
      "cell_type": "markdown",
      "source": [
        "&emsp; Apply perplexisty function to the test data and print results"
      ],
      "metadata": {
        "id": "Mu6gDab1EXYX"
      }
    },
    {
      "cell_type": "code",
      "source": [
        "smooth_unigram_pp = X_test.apply(lambda t: calculate_perplexity(ngrams_tuple(t,1),smooth_unigram_model,1))\n",
        "smooth_bigram_pp = X_test.apply(lambda t: calculate_perplexity(ngrams_tuple(t,2),smooth_bigram_model,2))\n",
        "smooth_trigram_pp = X_test.apply(lambda t: calculate_perplexity(ngrams_tuple(t,3),smooth_trigram_model,3))"
      ],
      "metadata": {
        "id": "3ocw026AqNwG"
      },
      "execution_count": 21,
      "outputs": []
    },
    {
      "cell_type": "markdown",
      "source": [
        "&emsp; Similar to the first model, the perplexity function is then applied to each sentence in the test dataset for each of the smoothed n-gram models, and a final equation computes the average perplexity for each sentence to give an overall perplexity for the n-gram model."
      ],
      "metadata": {
        "id": "uxP7mcWG92wr"
      }
    },
    {
      "cell_type": "markdown",
      "source": [
        "### Comparative Analysis"
      ],
      "metadata": {
        "id": "fyqt5DeJxMVW"
      }
    },
    {
      "cell_type": "markdown",
      "source": [
        "&emsp; The first thing that can be seen is that the overall perplexity has decreased from the first n-gram models. This is due to the fact that the smoothed model can find each of the n-grams, even if the conditional probabilty is very low. Again the **unigram** model is the best, given it's lower perplexity."
      ],
      "metadata": {
        "id": "bPnrtNouEhSn"
      }
    },
    {
      "cell_type": "code",
      "source": [
        "print(tabulate([\n",
        "    ['Unigram', round(unigram_pp.mean()), round(smooth_unigram_pp.mean()) ],\n",
        "    ['Bigram', round(bigram_pp.mean()), round(smooth_bigram_pp.mean()) ],\n",
        "    ['Trigram', round(trigram_pp.mean()), round(smooth_trigram_pp.mean()) ]],\n",
        "    headers=['Model', 'N-Gram Perplexity','Smoothed Perplexity'], tablefmt='orgtbl')\n",
        "  )"
      ],
      "metadata": {
        "colab": {
          "base_uri": "https://localhost:8080/",
          "height": 0
        },
        "id": "ZDyo2yLFKhsa",
        "outputId": "74798ada-8715-4ab7-9a26-afdd9067cb20"
      },
      "execution_count": 22,
      "outputs": [
        {
          "output_type": "stream",
          "name": "stdout",
          "text": [
            "| Model   |   N-Gram Perplexity |   Smoothed Perplexity |\n",
            "|---------+---------------------+-----------------------|\n",
            "| Unigram |              526645 |                  7442 |\n",
            "| Bigram  |              924587 |                 60644 |\n",
            "| Trigram |              950412 |                 72798 |\n"
          ]
        }
      ]
    },
    {
      "cell_type": "markdown",
      "source": [
        "## Task 4: Interpolation"
      ],
      "metadata": {
        "id": "aQ28e0hYwXIL"
      }
    },
    {
      "cell_type": "markdown",
      "source": [
        "### Implement Interpolation"
      ],
      "metadata": {
        "id": "LG6FPEtwbPM7"
      }
    },
    {
      "cell_type": "markdown",
      "source": [
        "&emsp; Since there could be a large number of unseen n-grams, Interpolation can be utilized to draw a conclusion of the probability of an n-gram. The interpolation looks to see if a trigram, bigram and unigram exist for a selected trigram. From there weights are applied to each, and then the probabilities are summed together to get a final probaility.\\\n",
        "&emsp; A function is created to create the new probabilties of the n-gram following the equation below\n",
        "<div align=\"center\">\n",
        "\n",
        "$$ \\hat{P}(w_{n}|w_{n-2}w_{n-1}) = \\lambda_{1}{P}(w_{n}) + \\lambda_{2}{P}(w_{n}|w_{n-1}) + \\lambda_{3}{P}(w_{n}|w_{n-2}w_{n-1}) $$\n",
        "\n",
        "</div>"
      ],
      "metadata": {
        "id": "YFb8tn3XE4tE"
      }
    },
    {
      "cell_type": "code",
      "source": [
        "def interpolate_models(unigram_model, unigram_w, bigram_model, bigram_w, trigram_model, trigram_w ):\n",
        "    interpolated_model = {}\n",
        "    for ngram in set(list(unigram_model.keys()) + list(bigram_model.keys()) + list(trigram_model.keys())):\n",
        "        unigram_prob = unigram_model.get(ngram, 0)\n",
        "        bigram_prob = bigram_model.get(ngram, 0)\n",
        "        trigram_prob = trigram_model.get(ngram, 0)\n",
        "        interpolated_model[ngram] = (unigram_w * unigram_prob +\n",
        "                                     bigram_w * bigram_prob +\n",
        "                                     trigram_w * trigram_prob)\n",
        "    return interpolated_model"
      ],
      "metadata": {
        "id": "DEfQcWvugdco"
      },
      "execution_count": 34,
      "outputs": []
    },
    {
      "cell_type": "markdown",
      "source": [
        "&emsp; The weights in this instance were given, and then applied to the n-gram models."
      ],
      "metadata": {
        "id": "Mlp3E_uGHIzr"
      }
    },
    {
      "cell_type": "code",
      "source": [
        "interpolate_models = interpolate_models(unigram_model, 0.7, bigram_model, 0.2, trigram_model, 0.1)"
      ],
      "metadata": {
        "id": "43FULoomgpbF"
      },
      "execution_count": 35,
      "outputs": []
    },
    {
      "cell_type": "markdown",
      "source": [
        "### Perplexity Calculation with Interpolation"
      ],
      "metadata": {
        "id": "viiE7diNwUyS"
      }
    },
    {
      "cell_type": "markdown",
      "source": [
        "&emsp; Lastly, the perplexity of the interploated model is cacluated against the test data and stored in a series."
      ],
      "metadata": {
        "id": "7G_1e9yyHYkz"
      }
    },
    {
      "cell_type": "code",
      "source": [
        "interpolate_pp = X_test.apply(lambda t: calculate_perplexity(ngrams_tuple(t,3),interpolate_models,3))"
      ],
      "metadata": {
        "id": "EnLN0TuugugQ"
      },
      "execution_count": 28,
      "outputs": []
    },
    {
      "cell_type": "markdown",
      "source": [
        "### Analysis"
      ],
      "metadata": {
        "id": "X5XDsZFZwcc_"
      }
    },
    {
      "cell_type": "markdown",
      "source": [
        "&emsp; Print perplexity of each model and describe"
      ],
      "metadata": {
        "id": "2WngNxTcHeb1"
      }
    },
    {
      "cell_type": "code",
      "source": [
        "print(tabulate([\n",
        "    ['Unigram', round(unigram_pp.mean()), round(smooth_unigram_pp.mean()), round(interpolate_pp.mean()) ],\n",
        "    ['Bigram', round(bigram_pp.mean()), round(smooth_bigram_pp.mean()) , round(interpolate_pp.mean())],\n",
        "    ['Trigram', round(trigram_pp.mean()), round(smooth_trigram_pp.mean()), round(interpolate_pp.mean()) ]],\n",
        "    headers=['Model', 'N-Gram Perplexity','Smoothed Perplexity','Interpolated'], tablefmt='orgtbl')\n",
        "  )"
      ],
      "metadata": {
        "colab": {
          "base_uri": "https://localhost:8080/",
          "height": 0
        },
        "id": "BtHsGV1xBuOu",
        "outputId": "514460c5-286c-41b4-e1cf-58d1daf6577b"
      },
      "execution_count": 29,
      "outputs": [
        {
          "output_type": "stream",
          "name": "stdout",
          "text": [
            "| Model   |   N-Gram Perplexity |   Smoothed Perplexity |   Interpolated |\n",
            "|---------+---------------------+-----------------------+----------------|\n",
            "| Unigram |              526645 |                  7442 |         950414 |\n",
            "| Bigram  |              924587 |                 60644 |         950414 |\n",
            "| Trigram |              950412 |                 72798 |         950414 |\n"
          ]
        }
      ]
    }
  ]
}