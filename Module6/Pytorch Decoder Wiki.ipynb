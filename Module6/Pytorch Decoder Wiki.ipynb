{
 "cells": [
  {
   "cell_type": "markdown",
   "id": "454f5536-0254-4075-b43d-a0bf52a62fa5",
   "metadata": {},
   "source": [
    "# CS733: Module 6 Assignment: Transformer Models for Text Classification and Language Modeling\n",
    "**Task 2: Setting Up the Transformer Decoder for Language Modeling**\n",
    "\n",
    "AJ Broderick *(UIN 01244170)* \\\n",
    "abrod006@odu.edu"
   ]
  },
  {
   "cell_type": "markdown",
   "id": "4dd464e7-0997-4157-82ea-d7b734066c8b",
   "metadata": {
    "tags": []
   },
   "source": [
    "### Load all needed libraries and packages"
   ]
  },
  {
   "cell_type": "code",
   "execution_count": 3,
   "id": "d74ad62e-8312-477e-9021-f51f908beb0b",
   "metadata": {},
   "outputs": [
    {
     "name": "stderr",
     "output_type": "stream",
     "text": [
      "Intel(R) Extension for Scikit-learn* enabled (https://github.com/intel/scikit-learn-intelex)\n",
      "/opt/conda/lib/python3.7/site-packages/sklearn/_distributor_init.py:25: FutureWarning: \n",
      "USE_DAAL4PY_SKLEARN variable is deprecated for Intel(R) Extension for Scikit-learn\n",
      "and will be delete in the 2022.1 release.\n",
      "Please, use new construction of global patching:\n",
      "python sklearnex.glob patch_sklearn\n",
      "Read more: https://intel.github.io/scikit-learn-intelex/global_patching.html\n",
      "  FutureWarning)\n"
     ]
    }
   ],
   "source": [
    "import pandas as pd\n",
    "from pandas import DataFrame\n",
    "import numpy as np\n",
    "import matplotlib.pyplot as plt\n",
    "import os\n",
    "import io\n",
    "import re\n",
    "import math\n",
    "from tqdm.notebook import trange, tqdm\n",
    "\n",
    "import kagglehub\n",
    "from sklearn.model_selection  import train_test_split\n",
    "import random\n",
    "\n",
    "import torch\n",
    "import torch.nn as nn\n",
    "from torch import optim\n",
    "from torch.utils.data import DataLoader\n",
    "from torch.utils.data.dataset import Dataset\n",
    "import torch.nn.functional as F\n",
    "from torch.distributions import Categorical\n",
    "\n",
    "# from torchtext.datasets import WikiText2, EnWik9, AG_NEWS\n",
    "from torchtext.data.utils import get_tokenizer\n",
    "from torchtext.vocab import build_vocab_from_iterator\n",
    "import torchtext.transforms as T\n",
    "from torch.hub import load_state_dict_from_url\n",
    "from torchtext.data.functional import sentencepiece_tokenizer, load_sp_model\n",
    "\n",
    "torch.backends.cuda.matmul.allow_tf32 = True"
   ]
  },
  {
   "cell_type": "code",
   "execution_count": 4,
   "id": "a4f4a97b-c58f-42a4-82ac-70ed95fc14f7",
   "metadata": {
    "tags": []
   },
   "outputs": [],
   "source": [
    "%matplotlib inline"
   ]
  },
  {
   "cell_type": "markdown",
   "id": "d687f167-e3df-4620-bef9-cd9ba5fc913f",
   "metadata": {
    "tags": []
   },
   "source": [
    "### Loading data and prepartion of model\n",
    "Load file location from Kaggle\\\n",
    "[Wikipedia Sentences](https://www.kaggle.com/datasets/mikeortman/wikipedia-sentences/data)"
   ]
  },
  {
   "cell_type": "code",
   "execution_count": 5,
   "id": "f73a1d98-0231-491b-b4b9-b8f500683579",
   "metadata": {
    "tags": []
   },
   "outputs": [
    {
     "name": "stdout",
     "output_type": "stream",
     "text": [
      "Warning: Looks like you're using an outdated `kagglehub` version, please consider updating (latest version: 0.3.4)\n"
     ]
    }
   ],
   "source": [
    "wiki_path = kagglehub.dataset_download(\"mikeortman/wikipedia-sentences\")\n",
    "wikisent_file = (wiki_path + '/wikisent2.txt')\n",
    "\n",
    "with open(wikisent_file, 'r') as f:\n",
    "    sentences = f.read().splitlines()\n",
    "    sentences = list(map(lambda x: x.lower(), sentences))"
   ]
  },
  {
   "cell_type": "code",
   "execution_count": 6,
   "id": "21507240-d832-4be7-bc5e-bb7cee2079f0",
   "metadata": {},
   "outputs": [],
   "source": [
    "learning_rate = 1e-4\n",
    "nepochs = 5\n",
    "batch_size = 128\n",
    "max_len = 32"
   ]
  },
  {
   "cell_type": "code",
   "execution_count": 7,
   "id": "fbeaca46-a3bb-42dc-ad08-27e417586c3c",
   "metadata": {
    "tags": []
   },
   "outputs": [],
   "source": [
    "seed = 42\n",
    "random.seed(seed)\n",
    "text = random.sample(sentences,200000) \n",
    "train, test = train_test_split(text, test_size=0.2, random_state=seed)\n",
    "train_df = DataFrame(train)"
   ]
  },
  {
   "cell_type": "code",
   "execution_count": 8,
   "id": "b60baea8-6f50-46d3-8876-66edd61c965d",
   "metadata": {
    "tags": []
   },
   "outputs": [],
   "source": [
    "data_loader_train = DataLoader(train, batch_size=batch_size, shuffle=True, num_workers=8, drop_last=True)\n",
    "data_loader_test = DataLoader(test, batch_size=200)"
   ]
  },
  {
   "cell_type": "markdown",
   "id": "79e5f95a-9b3e-4253-b5a4-621151a437dd",
   "metadata": {},
   "source": [
    "### Create CustomDataset & Apply to data"
   ]
  },
  {
   "cell_type": "code",
   "execution_count": 10,
   "id": "5a6a8872-456f-46cb-897f-a4f152f0b302",
   "metadata": {
    "tags": []
   },
   "outputs": [],
   "source": [
    "class CustomDataset(Dataset):\n",
    "    def __init__(self, data):\n",
    "        self.df = DataFrame(data, columns = ['text'])\n",
    "        \n",
    "        # self.df.rename(columns={\"0\": \"text\"})\n",
    "        \n",
    "        self.df['text'] = self.df['text'].str.replace(r'\\\\n|\\\\|\\\\r|\\\\r\\\\n|\\n|\"', ' ', regex=True)\n",
    "        self.df['text'] = self.df['text'].replace({' #39;': \"'\",' #38;': \"&\",' #36;': \"$\",' #151;': \"-\"},regex=True)\n",
    "\n",
    "    def __getitem__(self, idx):\n",
    "        text = self.df.loc[index][\"text\"].lower()\n",
    "        \n",
    "        return text\n",
    "    \n",
    "    def __len__(self):\n",
    "        return len(self.data)"
   ]
  },
  {
   "cell_type": "code",
   "execution_count": 11,
   "id": "60819418-c6ee-436b-bcc6-3c3e1c997ebc",
   "metadata": {
    "tags": []
   },
   "outputs": [],
   "source": [
    "train_data = CustomDataset(train)\n",
    "test_data = CustomDataset(test)"
   ]
  },
  {
   "cell_type": "markdown",
   "id": "6c58daee-c34e-4b83-9610-23be1dfeaa79",
   "metadata": {
    "tags": []
   },
   "source": [
    "### Data processing and Tokenization"
   ]
  },
  {
   "cell_type": "code",
   "execution_count": 12,
   "id": "f32557a6-71bb-4281-860a-5d382db59e3a",
   "metadata": {
    "tags": []
   },
   "outputs": [],
   "source": [
    "path = \"/home/abrod006/CS733\"\n",
    "\n",
    "with open('data.txt', 'w') as fp:\n",
    "    pass\n",
    "\n",
    "train_df.to_csv('train_data.csv')"
   ]
  },
  {
   "cell_type": "code",
   "execution_count": 13,
   "id": "28d2b85a-f274-4717-b548-0f9cd7409e3b",
   "metadata": {
    "tags": []
   },
   "outputs": [],
   "source": [
    "# Write training data .csv into text file created before\n",
    "with open(os.path.join(path, \"train_data.csv\")) as f:\n",
    "    with open(os.path.join(path,\"data.txt\"), 'w') as fp:\n",
    "        for i, line in enumerate(f):\n",
    "            text_only = \"\".join(line.split(\",\")[1:])\n",
    "            filtered = re.sub(r'\\\\|\\\\n|;', ' ', text_only.replace('\"', ' ').replace('\\n', ' ')) # remove newline characters\n",
    "            filtered = filtered.replace(' #39;', \"'\")\n",
    "            filtered = filtered.replace(' #38;', \"&\")\n",
    "            filtered = filtered.replace(' #36;', \"$\")\n",
    "            filtered = filtered.replace(' #151;', \"-\")\n",
    "\n",
    "            fp.write(filtered.lower() + \"\\n\")"
   ]
  },
  {
   "cell_type": "code",
   "execution_count": null,
   "id": "001c4c48-7046-4799-8b6f-a97bb2ade18d",
   "metadata": {
    "tags": []
   },
   "outputs": [],
   "source": [
    "from torchtext.data.functional import generate_sp_model\n",
    "\n",
    "generate_sp_model(os.path.join(path,\"data.txt\"), vocab_size=20000, model_prefix='wikipedia')"
   ]
  },
  {
   "cell_type": "code",
   "execution_count": 14,
   "id": "089783ce-c36e-4ca9-b181-e8b922db3b9f",
   "metadata": {
    "tags": []
   },
   "outputs": [],
   "source": [
    "def yield_tokens(file_path):\n",
    "    with io.open(file_path, encoding='utf-8') as f:\n",
    "        for line in f:\n",
    "            yield [line.split(\"\\t\")[0]]\n",
    "\n",
    "vocab = build_vocab_from_iterator(yield_tokens(\"wikipedia.vocab\"), specials=['<pad>', '<sos>', '<eos>', '<unk>'],special_first=True)\n",
    "\n",
    "vocab.set_default_index(vocab['<unk>'])"
   ]
  },
  {
   "cell_type": "code",
   "execution_count": 15,
   "id": "5a08f069-1f72-4f9c-b5c5-0e4221577528",
   "metadata": {
    "tags": []
   },
   "outputs": [],
   "source": [
    "class TokenDrop(nn.Module):\n",
    "    \"\"\"For a batch of tokens indices, randomly replace a non-specical token with <pad>.\n",
    "    \n",
    "    Args:\n",
    "        prob (float): probability of dropping a token\n",
    "        pad_token (int): index for the <pad> token\n",
    "        num_special (int): Number of special tokens, assumed to be at the start of the vocab\n",
    "    \"\"\"\n",
    "\n",
    "    def __init__(self, prob=0.1, pad_token=0, num_special=4):\n",
    "        self.prob = prob\n",
    "        self.num_special = num_special\n",
    "        self.pad_token = pad_token\n",
    "\n",
    "    def __call__(self, sample):\n",
    "        # Randomly sample a bernoulli distribution with p=prob\n",
    "        # to create a mask where 1 means we will replace that token\n",
    "        mask = torch.bernoulli(self.prob * torch.ones_like(sample)).long()\n",
    "        \n",
    "        # only replace if the token is not a special token\n",
    "        can_drop = (sample >= self.num_special).long()\n",
    "        mask = mask * can_drop\n",
    "        \n",
    "        replace_with = (self.pad_token * torch.ones_like(sample)).long()\n",
    "        \n",
    "        sample_out = (1 - mask) * sample + mask * replace_with\n",
    "        \n",
    "        return sample_out"
   ]
  },
  {
   "cell_type": "code",
   "execution_count": 16,
   "id": "b91d7409-ebcf-4113-a2f9-1a4df94e344b",
   "metadata": {
    "tags": []
   },
   "outputs": [],
   "source": [
    "train_tranform = T.Sequential(\n",
    "    T.SentencePieceTokenizer(\"wikipedia.model\"),\n",
    "    T.VocabTransform(vocab=vocab),\n",
    "    T.AddToken(1, begin=True),\n",
    "    T.Truncate(max_seq_len=max_len),\n",
    "    T.AddToken(2, begin=False),\n",
    "    T.ToTensor(padding_value=0),\n",
    ")\n",
    "\n",
    "gen_tranform = T.Sequential(\n",
    "    T.SentencePieceTokenizer(\"wikipedia.model\"),\n",
    "    T.VocabTransform(vocab=vocab),\n",
    "    T.AddToken(1, begin=True),\n",
    "    T.ToTensor(padding_value=0)\n",
    ")"
   ]
  },
  {
   "cell_type": "code",
   "execution_count": 17,
   "id": "9c502009-6b2f-4876-8d07-f5095456f0fc",
   "metadata": {
    "tags": []
   },
   "outputs": [
    {
     "name": "stdout",
     "output_type": "stream",
     "text": [
      "SENTENCE:\n",
      "george gigicos is an american campaign consultant who specializes in advance representation for republican politicians.\n",
      "\n",
      "TOKENS:\n",
      "['<sos>', '▁george', '▁gig', 'ico', 's', '▁is', '▁an', '▁american', '▁campaign', '▁consultant', '▁who', '▁specialize', 's', '▁in', '▁advance', '▁representation', '▁for', '▁republican', '▁politician', 's', '.', '<eos>', '<pad>', '<pad>', '<pad>', '<pad>', '<pad>', '<pad>', '<pad>', '<pad>', '<pad>', '<pad>', '<pad>']\n",
      "\n",
      "TOKENS BACK TO SENTENCE:\n"
     ]
    },
    {
     "data": {
      "text/plain": [
       "'<sos> george gigicos is an american campaign consultant who specializes in advance representation for republican politicians.<eos><pad><pad><pad><pad><pad><pad><pad><pad><pad><pad><pad>'"
      ]
     },
     "execution_count": 17,
     "metadata": {},
     "output_type": "execute_result"
    }
   ],
   "source": [
    "text = next(iter(data_loader_train))\n",
    "index = 0\n",
    "input_tokens = train_tranform(list(text))\n",
    "print(\"SENTENCE:\")\n",
    "print(text[index])\n",
    "\n",
    "print()\n",
    "print(\"TOKENS:\")\n",
    "print(vocab.lookup_tokens(input_tokens[index].numpy()))\n",
    "\n",
    "print()\n",
    "print(\"TOKENS BACK TO SENTENCE:\")\n",
    "pred_text = \"\".join(vocab.lookup_tokens(input_tokens[index].numpy()))\n",
    "pred_text.replace(\"▁\", \" \") "
   ]
  },
  {
   "cell_type": "markdown",
   "id": "d5fae822-10c7-4fc6-80de-05efbdbb9632",
   "metadata": {
    "tags": []
   },
   "source": [
    "### Decoder Transformer Network"
   ]
  },
  {
   "cell_type": "code",
   "execution_count": 18,
   "id": "cc158a91-75e4-4061-a7ef-a0fda5e0baf9",
   "metadata": {
    "tags": []
   },
   "outputs": [],
   "source": [
    "# Sinusoidal positional embeddings\n",
    "class SinusoidalPosEmb(nn.Module):\n",
    "    def __init__(self, dim):\n",
    "        super().__init__()\n",
    "        self.dim = dim\n",
    "\n",
    "    def forward(self, x):\n",
    "        device = x.device\n",
    "        half_dim = self.dim // 2\n",
    "        emb = math.log(10000) / (half_dim - 1)\n",
    "        emb = torch.exp(torch.arange(half_dim, device=device) * -emb)\n",
    "        emb = x[:, None] * emb[None, :]\n",
    "        emb = torch.cat((emb.sin(), emb.cos()), dim=-1)\n",
    "        return emb\n",
    "\n",
    "class TransformerBlock(nn.Module):\n",
    "    def __init__(self, hidden_size=128, num_heads=4):\n",
    "        super(TransformerBlock, self).__init__()\n",
    "        self.norm1 = nn.LayerNorm(hidden_size)\n",
    "        self.multihead_attn = nn.MultiheadAttention(hidden_size, num_heads=num_heads, batch_first=True, dropout=0.1)\n",
    "        self.norm2 = nn.LayerNorm(hidden_size)\n",
    "        self.mlp = nn.Sequential(nn.Linear(hidden_size, hidden_size * 4), nn.ELU(), nn.Linear(hidden_size * 4, hidden_size))\n",
    "\n",
    "    def forward(self, x, padding_mask):\n",
    "        bs, l, h = x.shape\n",
    "        mask = torch.triu(torch.ones(l, l, device=x.device), 1).bool()\n",
    "        norm_x = self.norm1(x)\n",
    "        x = self.multihead_attn(norm_x, norm_x, norm_x, attn_mask=mask, key_padding_mask=padding_mask)[0] + x\n",
    "        norm_x = self.norm2(x)\n",
    "        x = self.mlp(norm_x) + x\n",
    "        return x\n",
    "    \n",
    "class Transformer(nn.Module):\n",
    "    def __init__(self, num_emb, hidden_size=128, num_layers=3, num_heads=4):\n",
    "        super(Transformer, self).__init__()\n",
    "        self.embedding = nn.Embedding(num_emb, hidden_size)\n",
    "        self.pos_emb = SinusoidalPosEmb(hidden_size)\n",
    "        self.blocks = nn.ModuleList([TransformerBlock(hidden_size, num_heads) for _ in range(num_layers)])\n",
    "        self.fc_out = nn.Linear(hidden_size, num_emb)\n",
    "\n",
    "    def forward(self, input_seq):\n",
    "        input_key_mask = input_seq == 0\n",
    "        input_embs = self.embedding(input_seq)\n",
    "        bs, l, h = input_embs.shape\n",
    "        seq_indx = torch.arange(l, device=input_seq.device)\n",
    "        pos_emb = self.pos_emb(seq_indx).reshape(1, l, h).expand(bs, l, h)\n",
    "        embs = input_embs + pos_emb\n",
    "        for block in self.blocks:\n",
    "            embs = block(embs, padding_mask=input_key_mask)\n",
    "        return self.fc_out(embs)"
   ]
  },
  {
   "cell_type": "markdown",
   "id": "14b63c58-753d-4ca1-a9cb-08922a56754a",
   "metadata": {
    "tags": []
   },
   "source": [
    "### Start model and Optimizer"
   ]
  },
  {
   "cell_type": "code",
   "execution_count": 19,
   "id": "6f968c7d-a65d-48c7-ac56-c443d2915e47",
   "metadata": {
    "tags": []
   },
   "outputs": [],
   "source": [
    "device = torch.device(1 if torch.cuda.is_available() else 'cpu')\n",
    "\n",
    "hidden_size = 256\n",
    "num_layers = 2\n",
    "num_heads = 4\n",
    "\n",
    "tf_generator = Transformer(num_emb=len(vocab), num_layers=num_layers, hidden_size=hidden_size, num_heads=num_heads)\n",
    "\n",
    "optimizer = optim.Adam(tf_generator.parameters(), lr=learning_rate)\n",
    "\n",
    "scaler = torch.cuda.amp.GradScaler()\n",
    "\n",
    "loss_fn = nn.CrossEntropyLoss(reduction=\"none\")\n",
    "\n",
    "td = TokenDrop(prob=0.2)\n",
    "\n",
    "training_loss_logger = []\n",
    "entropy_logger = []"
   ]
  },
  {
   "cell_type": "markdown",
   "id": "44e6f048-febf-492f-a487-ccf7504b0e89",
   "metadata": {
    "tags": []
   },
   "source": [
    "### Train Model"
   ]
  },
  {
   "cell_type": "code",
   "execution_count": 36,
   "id": "ffa6eff6-b707-4ba7-b762-77a8434b023f",
   "metadata": {
    "tags": []
   },
   "outputs": [
    {
     "data": {
      "application/json": {
       "ascii": false,
       "bar_format": null,
       "colour": null,
       "elapsed": 0.027242183685302734,
       "initial": 0,
       "n": 0,
       "ncols": null,
       "nrows": null,
       "postfix": null,
       "prefix": "Epoch",
       "rate": null,
       "total": 5,
       "unit": "it",
       "unit_divisor": 1000,
       "unit_scale": false
      },
      "application/vnd.jupyter.widget-view+json": {
       "model_id": "b44b71640ef3429cabe3524f7af4bb74",
       "version_major": 2,
       "version_minor": 0
      },
      "text/plain": [
       "Epoch:   0%|          | 0/5 [00:00<?, ?it/s]"
      ]
     },
     "metadata": {},
     "output_type": "display_data"
    },
    {
     "data": {
      "application/json": {
       "ascii": false,
       "bar_format": null,
       "colour": null,
       "elapsed": 0.025482892990112305,
       "initial": 0,
       "n": 0,
       "ncols": null,
       "nrows": null,
       "postfix": null,
       "prefix": "Training",
       "rate": null,
       "total": 1250,
       "unit": "it",
       "unit_divisor": 1000,
       "unit_scale": false
      },
      "application/vnd.jupyter.widget-view+json": {
       "model_id": "a268aa7284944ce99ebb31bbd97e573b",
       "version_major": 2,
       "version_minor": 0
      },
      "text/plain": [
       "Training:   0%|          | 0/1250 [00:00<?, ?it/s]"
      ]
     },
     "metadata": {},
     "output_type": "display_data"
    },
    {
     "data": {
      "application/json": {
       "ascii": false,
       "bar_format": null,
       "colour": null,
       "elapsed": 0.0331723690032959,
       "initial": 0,
       "n": 0,
       "ncols": null,
       "nrows": null,
       "postfix": null,
       "prefix": "Training",
       "rate": null,
       "total": 1250,
       "unit": "it",
       "unit_divisor": 1000,
       "unit_scale": false
      },
      "application/vnd.jupyter.widget-view+json": {
       "model_id": "6d05a59c44b946a8b91ea0def7801ccf",
       "version_major": 2,
       "version_minor": 0
      },
      "text/plain": [
       "Training:   0%|          | 0/1250 [00:00<?, ?it/s]"
      ]
     },
     "metadata": {},
     "output_type": "display_data"
    },
    {
     "data": {
      "application/json": {
       "ascii": false,
       "bar_format": null,
       "colour": null,
       "elapsed": 0.03649449348449707,
       "initial": 0,
       "n": 0,
       "ncols": null,
       "nrows": null,
       "postfix": null,
       "prefix": "Training",
       "rate": null,
       "total": 1250,
       "unit": "it",
       "unit_divisor": 1000,
       "unit_scale": false
      },
      "application/vnd.jupyter.widget-view+json": {
       "model_id": "cc3c74b61d7b482ea7b370cb7079511b",
       "version_major": 2,
       "version_minor": 0
      },
      "text/plain": [
       "Training:   0%|          | 0/1250 [00:00<?, ?it/s]"
      ]
     },
     "metadata": {},
     "output_type": "display_data"
    },
    {
     "data": {
      "application/json": {
       "ascii": false,
       "bar_format": null,
       "colour": null,
       "elapsed": 0.030467510223388672,
       "initial": 0,
       "n": 0,
       "ncols": null,
       "nrows": null,
       "postfix": null,
       "prefix": "Training",
       "rate": null,
       "total": 1250,
       "unit": "it",
       "unit_divisor": 1000,
       "unit_scale": false
      },
      "application/vnd.jupyter.widget-view+json": {
       "model_id": "6c5d703a9ba94e1296641d5de82452b1",
       "version_major": 2,
       "version_minor": 0
      },
      "text/plain": [
       "Training:   0%|          | 0/1250 [00:00<?, ?it/s]"
      ]
     },
     "metadata": {},
     "output_type": "display_data"
    },
    {
     "data": {
      "application/json": {
       "ascii": false,
       "bar_format": null,
       "colour": null,
       "elapsed": 0.029983043670654297,
       "initial": 0,
       "n": 0,
       "ncols": null,
       "nrows": null,
       "postfix": null,
       "prefix": "Training",
       "rate": null,
       "total": 1250,
       "unit": "it",
       "unit_divisor": 1000,
       "unit_scale": false
      },
      "application/vnd.jupyter.widget-view+json": {
       "model_id": "cc9b7afa87df4b6fb7916bf1a594c7e0",
       "version_major": 2,
       "version_minor": 0
      },
      "text/plain": [
       "Training:   0%|          | 0/1250 [00:00<?, ?it/s]"
      ]
     },
     "metadata": {},
     "output_type": "display_data"
    }
   ],
   "source": [
    "for epoch in trange(0, nepochs, leave=False, desc=\"Epoch\"):    \n",
    "    tf_generator.train()\n",
    "    steps = 0\n",
    "    for text in tqdm(data_loader_train, desc=\"Training\", leave=False):\n",
    "        text_tokens = train_tranform(list(text))\n",
    "        bs = text_tokens.shape[0]\n",
    "        \n",
    "        input_text = td(text_tokens[:, 0:-1])\n",
    "        output_text = text_tokens[:, 1:]\n",
    "\n",
    "        with torch.cuda.amp.autocast():\n",
    "            pred = tf_generator(input_text)\n",
    "\n",
    "        mask = (output_text != 0).float()\n",
    "        loss = (loss_fn(pred.transpose(1, 2), output_text) * mask).sum()/mask.sum()\n",
    "        \n",
    "        optimizer.zero_grad()\n",
    "        scaler.scale(loss).backward()\n",
    "        scaler.step(optimizer)\n",
    "        scaler.update()\n",
    "\n",
    "        training_loss_logger.append(loss.item())\n",
    "        with torch.no_grad():\n",
    "            dist = Categorical(logits=pred)\n",
    "            entropy_logger.append(dist.entropy().mean().item())"
   ]
  },
  {
   "cell_type": "markdown",
   "id": "be3177a3-cce3-4292-822f-e959baee2fb2",
   "metadata": {
    "tags": []
   },
   "source": [
    "#### Save model for future use"
   ]
  },
  {
   "cell_type": "code",
   "execution_count": 43,
   "id": "29b8e54e-811e-40d9-ad79-007b4c1b73f7",
   "metadata": {
    "tags": []
   },
   "outputs": [],
   "source": [
    "torch.save(tf_generator.state_dict(), 'broderick_decoder_model.pth') "
   ]
  },
  {
   "cell_type": "code",
   "execution_count": 50,
   "id": "55577e4b-6904-452f-aecb-83027c47cf74",
   "metadata": {
    "tags": []
   },
   "outputs": [
    {
     "data": {
      "text/plain": [
       "Transformer(\n",
       "  (embedding): Embedding(20003, 256)\n",
       "  (pos_emb): SinusoidalPosEmb()\n",
       "  (blocks): ModuleList(\n",
       "    (0): TransformerBlock(\n",
       "      (norm1): LayerNorm((256,), eps=1e-05, elementwise_affine=True)\n",
       "      (multihead_attn): MultiheadAttention(\n",
       "        (out_proj): NonDynamicallyQuantizableLinear(in_features=256, out_features=256, bias=True)\n",
       "      )\n",
       "      (norm2): LayerNorm((256,), eps=1e-05, elementwise_affine=True)\n",
       "      (mlp): Sequential(\n",
       "        (0): Linear(in_features=256, out_features=1024, bias=True)\n",
       "        (1): ELU(alpha=1.0)\n",
       "        (2): Linear(in_features=1024, out_features=256, bias=True)\n",
       "      )\n",
       "    )\n",
       "    (1): TransformerBlock(\n",
       "      (norm1): LayerNorm((256,), eps=1e-05, elementwise_affine=True)\n",
       "      (multihead_attn): MultiheadAttention(\n",
       "        (out_proj): NonDynamicallyQuantizableLinear(in_features=256, out_features=256, bias=True)\n",
       "      )\n",
       "      (norm2): LayerNorm((256,), eps=1e-05, elementwise_affine=True)\n",
       "      (mlp): Sequential(\n",
       "        (0): Linear(in_features=256, out_features=1024, bias=True)\n",
       "        (1): ELU(alpha=1.0)\n",
       "        (2): Linear(in_features=1024, out_features=256, bias=True)\n",
       "      )\n",
       "    )\n",
       "  )\n",
       "  (fc_out): Linear(in_features=256, out_features=20003, bias=True)\n",
       ")"
      ]
     },
     "execution_count": 50,
     "metadata": {},
     "output_type": "execute_result"
    }
   ],
   "source": [
    "vocab = build_vocab_from_iterator(yield_tokens(\"wikipedia.vocab\"), specials=['<pad>', '<sos>', '<eos>', '<unk>'], special_first=True)\n",
    "\n",
    "new_model = Transformer(len(vocab), 256, 2, 4)\n",
    "new_model.load_state_dict(torch.load('broderick_decoder_model.pth'))\n",
    "new_model.eval()"
   ]
  },
  {
   "cell_type": "markdown",
   "id": "0b6254cf-77d4-4624-bf59-34ff37faf5e1",
   "metadata": {
    "tags": []
   },
   "source": [
    "### Test Model"
   ]
  },
  {
   "cell_type": "code",
   "execution_count": 1,
   "id": "8422cbff-c6dd-4a07-868f-f5fbddc04d7a",
   "metadata": {
    "tags": []
   },
   "outputs": [
    {
     "ename": "NameError",
     "evalue": "name 'data_loader_test' is not defined",
     "output_type": "error",
     "traceback": [
      "\u001b[0;31m---------------------------------------------------------------------------\u001b[0m",
      "\u001b[0;31mNameError\u001b[0m                                 Traceback (most recent call last)",
      "\u001b[0;32m/tmp/ipykernel_792855/3849349748.py\u001b[0m in \u001b[0;36m<module>\u001b[0;34m\u001b[0m\n\u001b[0;32m----> 1\u001b[0;31m \u001b[0mtext\u001b[0m \u001b[0;34m=\u001b[0m \u001b[0mnext\u001b[0m\u001b[0;34m(\u001b[0m\u001b[0miter\u001b[0m\u001b[0;34m(\u001b[0m\u001b[0mdata_loader_test\u001b[0m\u001b[0;34m)\u001b[0m\u001b[0;34m)\u001b[0m\u001b[0;34m\u001b[0m\u001b[0;34m\u001b[0m\u001b[0m\n\u001b[0m",
      "\u001b[0;31mNameError\u001b[0m: name 'data_loader_test' is not defined"
     ]
    }
   ],
   "source": [
    "text = next(iter(data_loader_test))"
   ]
  },
  {
   "cell_type": "code",
   "execution_count": 38,
   "id": "2ba2c7c9-8f1e-4255-a857-c5253a8cf6dd",
   "metadata": {
    "tags": []
   },
   "outputs": [
    {
     "name": "stdout",
     "output_type": "stream",
     "text": [
      "INITIAL PROMPT:\n",
      "under\n",
      "\n",
      "ORIGINAL CONTENT:\n",
      "a blood red sky is a concert film by irish rock band u2.\n",
      "\n",
      "PROMPT TOKENS:\n",
      "tensor([[    1, 19092]])\n",
      "['<sos>', '▁under']\n"
     ]
    }
   ],
   "source": [
    "index = 0\n",
    "temp = 0.6\n",
    "\n",
    "first_word = text[index].split(' ', 1)[0]\n",
    "init_prompt = [first_word] \n",
    "\n",
    "content = text[index].split(' ', 1)[1]\n",
    "\n",
    "init_tokens = gen_tranform(init_prompt)\n",
    "\n",
    "print(\"INITIAL PROMPT:\")\n",
    "print(first_word)\n",
    "print(\"\")\n",
    "print(\"ORIGINAL CONTENT:\")\n",
    "print(content)"
   ]
  },
  {
   "cell_type": "code",
   "execution_count": 39,
   "id": "29c28f70-1515-42c7-b8dd-f56489b25d0b",
   "metadata": {
    "tags": []
   },
   "outputs": [],
   "source": [
    "log_tokens = [init_tokens]\n",
    "\n",
    "tf_generator.eval()\n",
    "\n",
    "with torch.no_grad():    \n",
    "    for i in range(30):\n",
    "        input_tokens = torch.cat(log_tokens, 1)\n",
    "        data_pred = tf_generator(input_tokens)\n",
    "        dist = Categorical(logits=data_pred[:, -1])\n",
    "        next_tokens = dist.sample().reshape(1, 1)\n",
    "        log_tokens.append(next_tokens.cpu())\n",
    "        if next_tokens.item() == 2:\n",
    "            break"
   ]
  },
  {
   "cell_type": "code",
   "execution_count": 40,
   "id": "43deca17-f6f5-4000-b254-0095379349ee",
   "metadata": {
    "tags": []
   },
   "outputs": [
    {
     "name": "stdout",
     "output_type": "stream",
     "text": [
      "<sos>▁underopened▁accurate▁alumni▁tyrosinemycin▁tin▁lesbian▁centimeters▁griffith▁waterfall▁factoriesuhf▁sheik▁nanotechnology▁design▁grief▁awaken▁larva▁aviv▁len▁ca▁vienne▁proficien▁meant▁stanley▁porcelain▁voluntaryission▁ultima▁absence\n"
     ]
    }
   ],
   "source": [
    "pred_text = \"\".join(vocab.lookup_tokens(torch.cat(log_tokens, 1)[0].numpy()))\n",
    "print(pred_text)"
   ]
  },
  {
   "cell_type": "code",
   "execution_count": 41,
   "id": "7d557b06-a490-4856-b197-de3c93ece5c0",
   "metadata": {
    "tags": []
   },
   "outputs": [
    {
     "name": "stdout",
     "output_type": "stream",
     "text": [
      " underopened accurate alumni tyrosinemycin tin lesbian centimeters griffith waterfall factoriesuhf sheik nanotechnology design grief awaken larva aviv len ca vienne proficien meant stanley porcelain voluntaryission ultima absence\n"
     ]
    }
   ],
   "source": [
    "pred_text_cleaned = pred_text.replace(\"▁\", \" \").replace(\"<unk>\", \"\").replace(\"<sos>\", \"\").replace(\"<eos>\", \"\")\n",
    "print(pred_text_cleaned)"
   ]
  },
  {
   "cell_type": "markdown",
   "id": "2c11d1e9-38f8-4682-8c7d-07e341869ba2",
   "metadata": {},
   "source": [
    "### Evaluation Plots"
   ]
  },
  {
   "cell_type": "code",
   "execution_count": 83,
   "id": "6321f6c3-057d-4bc0-9767-af722c0f9518",
   "metadata": {
    "tags": []
   },
   "outputs": [
    {
     "data": {
      "image/png": "[encoded data removed]",
      "text/plain": [
       "<Figure size 1000x500 with 1 Axes>"
      ]
     },
     "metadata": {},
     "output_type": "display_data"
    }
   ],
   "source": [
    "perplexity = []\n",
    "for l in training_loss_logger:\n",
    "    p = torch.exp(torch.tensor(l))\n",
    "    perplexity.extend([p])\n",
    "\n",
    "plt.figure(figsize=(10, 5))\n",
    "plt.plot(np.linspace(0, nepochs, len(perplexity)), perplexity)\n",
    "\n",
    "plt.legend([\"Train\"])\n",
    "plt.title(\"Training Perplexity\")\n",
    "plt.xlabel(\"Epochs\")\n",
    "plt.ylabel(\"Perplexity\")\n",
    "\n",
    "plt.show()"
   ]
  },
  {
   "cell_type": "code",
   "execution_count": 20,
   "id": "5d5706ab-8fee-45cb-ba9c-452535e166b7",
   "metadata": {
    "tags": []
   },
   "outputs": [
    {
     "data": {
      "application/json": {
       "ascii": false,
       "bar_format": null,
       "colour": null,
       "elapsed": 0.030793428421020508,
       "initial": 0,
       "n": 0,
       "ncols": null,
       "nrows": null,
       "postfix": null,
       "prefix": "Epoch",
       "rate": null,
       "total": 1,
       "unit": "it",
       "unit_divisor": 1000,
       "unit_scale": false
      },
      "application/vnd.jupyter.widget-view+json": {
       "model_id": "718194e828e349f48867802605dd7a24",
       "version_major": 2,
       "version_minor": 0
      },
      "text/plain": [
       "Epoch:   0%|          | 0/1 [00:00<?, ?it/s]"
      ]
     },
     "metadata": {},
     "output_type": "display_data"
    },
    {
     "data": {
      "application/json": {
       "ascii": false,
       "bar_format": null,
       "colour": null,
       "elapsed": 0.024489879608154297,
       "initial": 0,
       "n": 0,
       "ncols": null,
       "nrows": null,
       "postfix": null,
       "prefix": "Testing",
       "rate": null,
       "total": 200,
       "unit": "it",
       "unit_divisor": 1000,
       "unit_scale": false
      },
      "application/vnd.jupyter.widget-view+json": {
       "model_id": "bff6b44368aa44c580bd59551abca1c7",
       "version_major": 2,
       "version_minor": 0
      },
      "text/plain": [
       "Testing:   0%|          | 0/200 [00:00<?, ?it/s]"
      ]
     },
     "metadata": {},
     "output_type": "display_data"
    }
   ],
   "source": [
    "testing_loss_logger = []\n",
    "            \n",
    "for epoch in trange(0, 1, leave=False, desc=\"Epoch\"):    \n",
    "    tf_generator.train()\n",
    "    steps = 0\n",
    "    for text in tqdm(data_loader_test, desc=\"Testing\", leave=False):\n",
    "        text_tokens = train_tranform(list(text))\n",
    "        bs = text_tokens.shape[0]\n",
    "        \n",
    "        input_text = td(text_tokens[:, 0:-1])\n",
    "        output_text = text_tokens[:, 1:]\n",
    "\n",
    "        with torch.cuda.amp.autocast():\n",
    "            pred = tf_generator(input_text)\n",
    "\n",
    "        mask = (output_text != 0).float()\n",
    "        loss = (loss_fn(pred.transpose(1, 2), output_text) * mask).sum()/mask.sum()\n",
    "        \n",
    "        optimizer.zero_grad()\n",
    "        scaler.scale(loss).backward()\n",
    "        scaler.step(optimizer)\n",
    "        scaler.update()\n",
    "\n",
    "        testing_loss_logger.append(loss.item())\n",
    "        with torch.no_grad():\n",
    "            dist = Categorical(logits=pred)\n",
    "            entropy_logger.append(dist.entropy().mean().item())"
   ]
  },
  {
   "cell_type": "code",
   "execution_count": 21,
   "id": "39ec5ba0-03d7-4c64-82d3-31b53e34191b",
   "metadata": {
    "tags": []
   },
   "outputs": [
    {
     "data": {
      "image/png": "[encoded data removed]",
      "text/plain": [
       "<Figure size 1000x500 with 1 Axes>"
      ]
     },
     "metadata": {},
     "output_type": "display_data"
    }
   ],
   "source": [
    "test_perplexity = []\n",
    "for l in testing_loss_logger:\n",
    "    p = torch.exp(torch.tensor(l))\n",
    "    test_perplexity.extend([p])\n",
    "\n",
    "plt.figure(figsize=(10, 5))\n",
    "plt.plot(np.linspace(0, 1, len(test_perplexity)), test_perplexity, color='orange')\n",
    "\n",
    "plt.legend([\"Test\"])\n",
    "plt.title(\"Testing Perplexity\")\n",
    "plt.xlabel(\"Epochs\")\n",
    "plt.ylabel(\"Perplexity\")\n",
    "\n",
    "plt.show()"
   ]
  }
 ],
 "metadata": {
  "kernelspec": {
   "display_name": "Python 3 (ipykernel)",
   "language": "python",
   "name": "python3"
  },
  "language_info": {
   "codemirror_mode": {
    "name": "ipython",
    "version": 3
   },
   "file_extension": ".py",
   "mimetype": "text/x-python",
   "name": "python",
   "nbconvert_exporter": "python",
   "pygments_lexer": "ipython3",
   "version": "3.7.13"
  }
 },
 "nbformat": 4,
 "nbformat_minor": 5
}
