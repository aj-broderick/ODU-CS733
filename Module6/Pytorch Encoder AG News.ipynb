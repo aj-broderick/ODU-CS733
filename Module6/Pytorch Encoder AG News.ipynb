{
 "cells": [
  {
   "cell_type": "markdown",
   "id": "4376e317-6331-49f2-8481-d2048db1d7e8",
   "metadata": {},
   "source": [
    "# CS733: Module 6 Assignment: Transformer Models for Text Classification and Language Modeling\n",
    "**Task 1: Setting Up the Transformer Decoder for Language Modeling**\n",
    "\n",
    "AJ Broderick *(UIN 01244170)* \\\n",
    "abrod006@odu.edu"
   ]
  },
  {
   "cell_type": "markdown",
   "id": "8c4c291a-d659-432c-a7c9-d041f25a3f4c",
   "metadata": {},
   "source": [
    "### Load all needed libraries and packages\n",
    "\n",
    "*Note:* \\\n",
    "Model created on Wahab cluster at ODU, using Python 3.7 and PyTorch 1.12"
   ]
  },
  {
   "cell_type": "code",
   "execution_count": 2,
   "id": "87e3298a-b9ae-4fab-b8f7-ac158bd95920",
   "metadata": {
    "tags": []
   },
   "outputs": [
    {
     "name": "stdout",
     "output_type": "stream",
     "text": [
      "\n",
      "\u001b[1m[\u001b[0m\u001b[34;49mnotice\u001b[0m\u001b[1;39;49m]\u001b[0m\u001b[39;49m A new release of pip available: \u001b[0m\u001b[31;49m22.2.2\u001b[0m\u001b[39;49m -> \u001b[0m\u001b[32;49m24.0\u001b[0m\n",
      "\u001b[1m[\u001b[0m\u001b[34;49mnotice\u001b[0m\u001b[1;39;49m]\u001b[0m\u001b[39;49m To update, run: \u001b[0m\u001b[32;49mpip install --upgrade pip\u001b[0m\n",
      "Note: you may need to restart the kernel to use updated packages.\n"
     ]
    }
   ],
   "source": [
    "%pip -q install seaborn"
   ]
  },
  {
   "cell_type": "code",
   "execution_count": 27,
   "id": "129751a9-77fe-4a38-a53b-04d66d5d98ca",
   "metadata": {},
   "outputs": [],
   "source": [
    "import pandas as pd\n",
    "from pandas import DataFrame\n",
    "import numpy as np\n",
    "import matplotlib.pyplot as plt\n",
    "import os\n",
    "import io\n",
    "import re\n",
    "import math\n",
    "from tqdm.notebook import trange, tqdm\n",
    "\n",
    "import kagglehub\n",
    "from sklearn.model_selection  import train_test_split\n",
    "import random\n",
    "\n",
    "import torch\n",
    "import torch.nn as nn\n",
    "from torch import optim\n",
    "from torch.utils.data import DataLoader\n",
    "from torch.utils.data.dataset import Dataset\n",
    "import torch.nn.functional as F\n",
    "from torch.distributions import Categorical\n",
    "\n",
    "from torchtext.data.utils import get_tokenizer\n",
    "from torchtext.vocab import build_vocab_from_iterator\n",
    "import torchtext.transforms as T\n",
    "from torch.hub import load_state_dict_from_url\n",
    "from torchtext.data.functional import sentencepiece_tokenizer, load_sp_model, generate_sp_model\n",
    "\n",
    "torch.backends.cuda.matmul.allow_tf32 = True\n",
    "\n",
    "from sklearn.metrics import accuracy_score, precision_score, recall_score, f1_score, classification_report\n",
    "from sklearn.metrics import confusion_matrix\n",
    "import seaborn as sns"
   ]
  },
  {
   "cell_type": "code",
   "execution_count": 4,
   "id": "8baa87c5-341d-416a-8022-595abd614a05",
   "metadata": {
    "tags": []
   },
   "outputs": [],
   "source": [
    "%matplotlib inline"
   ]
  },
  {
   "cell_type": "markdown",
   "id": "3190d8f6-f317-4e78-8323-fb0b847e6d3d",
   "metadata": {},
   "source": [
    "### Loading data and prepartion of model\n",
    "Load file location from Kaggle\\\n",
    "[AG News Classification Dataset](https://www.kaggle.com/datasets/amananandrai/ag-news-classification-dataset/data)"
   ]
  },
  {
   "cell_type": "code",
   "execution_count": 6,
   "id": "8608ff4b-4c03-41cf-9556-5c645c853608",
   "metadata": {
    "tags": []
   },
   "outputs": [
    {
     "name": "stdout",
     "output_type": "stream",
     "text": [
      "Warning: Looks like you're using an outdated `kagglehub` version, please consider updating (latest version: 0.3.4)\n"
     ]
    }
   ],
   "source": [
    "ag_news_path = kagglehub.dataset_download(\"amananandrai/ag-news-classification-dataset\")\n",
    "\n",
    "ag_train_file = (ag_news_path + '/train.csv')\n",
    "ag_train_df = pd.read_csv(ag_train_file)\n",
    "ag_train_df['Description'] = ag_train_df['Description'].map(lambda x: x.lower())\n",
    "ag_train_df = ag_train_df.rename(columns={\"Class Index\": \"label\", \"Title\": \"title\", \"Description\": \"text\"})\n",
    "\n",
    "ag_test_file = (ag_news_path + '/test.csv')\n",
    "ag_test_df = pd.read_csv(ag_test_file)\n",
    "ag_test_df['Description'] = ag_test_df['Description'].map(lambda x: x.lower())\n",
    "ag_test_df = ag_test_df.rename(columns={\"Class Index\": \"label\", \"Title\": \"title\", \"Description\": \"text\"})"
   ]
  },
  {
   "cell_type": "code",
   "execution_count": 5,
   "id": "9e8550b6-9037-42ea-be8e-8717f3576b1f",
   "metadata": {
    "tags": []
   },
   "outputs": [],
   "source": [
    "learning_rate = 1e-4\n",
    "nepochs = 10\n",
    "batch_size = 128\n",
    "max_len = 128"
   ]
  },
  {
   "cell_type": "markdown",
   "id": "4e350895-d694-44bb-8af7-8f34f765adab",
   "metadata": {},
   "source": [
    "### Create CustomDataset & Apply to data"
   ]
  },
  {
   "cell_type": "code",
   "execution_count": 7,
   "id": "55f44874-7e90-4c70-9b7e-b4e240271dec",
   "metadata": {
    "tags": []
   },
   "outputs": [],
   "source": [
    "class CustomDatasetTrain(Dataset):\n",
    "    def __init__(self, data):\n",
    "        self.df = pd.read_csv(ag_train_file)\n",
    "        self.df['Description'] = self.df['Description'].map(lambda x: x.lower())\n",
    "        self.df = self.df.rename(columns={\"Class Index\": \"label\", \"Title\": \"title\", \"Description\": \"text\"})\n",
    "        \n",
    "    def __getitem__(self, idx):\n",
    "        text = self.df.loc[idx][\"text\"]\n",
    "        class_index = int(self.df.loc[idx][\"label\"]) - 1\n",
    "        return class_index, text\n",
    "    \n",
    "    def __len__(self):\n",
    "        return len(self.df)\n",
    "    \n",
    "class CustomDatasetTest(Dataset):\n",
    "    def __init__(self, data):\n",
    "        self.df = pd.read_csv(ag_test_file)\n",
    "        self.df['Description'] = self.df['Description'].map(lambda x: x.lower())\n",
    "        self.df = self.df.rename(columns={\"Class Index\": \"label\", \"Title\": \"title\", \"Description\": \"text\"})\n",
    "        \n",
    "    def __getitem__(self, idx):\n",
    "        text = self.df.loc[idx][\"text\"]\n",
    "        class_index = int(self.df.loc[idx][\"label\"]) - 1\n",
    "        return class_index, text\n",
    "    \n",
    "    def __len__(self):\n",
    "        return len(self.df)"
   ]
  },
  {
   "cell_type": "code",
   "execution_count": 8,
   "id": "ce28f6fe-949e-4b40-bc1d-4335354903f4",
   "metadata": {
    "tags": []
   },
   "outputs": [],
   "source": [
    "ag_train_data = CustomDatasetTrain(ag_train_df)\n",
    "ag_test_data = CustomDatasetTest(ag_test_df)"
   ]
  },
  {
   "cell_type": "code",
   "execution_count": 9,
   "id": "e5827882-e043-4b41-b008-63cfaf204e7d",
   "metadata": {
    "tags": []
   },
   "outputs": [],
   "source": [
    "ag_data_loader_train = DataLoader(ag_train_data, batch_size=64, shuffle=True, drop_last=True)\n",
    "ag_data_loader_test = DataLoader(ag_test_data, batch_size=100)"
   ]
  },
  {
   "cell_type": "markdown",
   "id": "7a6cfc8c-d9d0-47ff-98db-4c1f53cdafa6",
   "metadata": {},
   "source": [
    "### Data processing and Tokenization"
   ]
  },
  {
   "cell_type": "code",
   "execution_count": 10,
   "id": "8facb6ff-6c46-4e6a-8bb5-2ea7ad2ad766",
   "metadata": {
    "tags": []
   },
   "outputs": [],
   "source": [
    "path = \"/home/abrod006/CS733\"\n",
    "\n",
    "with open('ag_data.txt', 'w') as fp:\n",
    "    pass\n",
    "\n",
    "ag_train_df['text'].to_csv('ag_train_data.csv')"
   ]
  },
  {
   "cell_type": "code",
   "execution_count": 11,
   "id": "2ce6615f-ac67-4dfa-abab-0902945af787",
   "metadata": {
    "tags": []
   },
   "outputs": [],
   "source": [
    "with open(os.path.join(path, \"ag_train_data.csv\")) as f:\n",
    "    with open(os.path.join(path,\"ag_data.txt\"), 'w') as fp:\n",
    "        for i, line in enumerate(f):\n",
    "            text_only = \"\".join(line.split(\",\")[1:])\n",
    "            filtered = re.sub(r'\\\\|\\\\n|;', ' ', text_only.replace('\"', ' ').replace('\\n', ' '))\n",
    "            filtered = filtered.replace(' #39;', \"'\")\n",
    "            filtered = filtered.replace(' #38;', \"&\")\n",
    "            filtered = filtered.replace(' #36;', \"$\")\n",
    "            filtered = filtered.replace(' #151;', \"-\")\n",
    "\n",
    "            fp.write(filtered.lower() + \"\\n\")"
   ]
  },
  {
   "cell_type": "code",
   "execution_count": 12,
   "id": "289cec50-733b-46e7-bb03-7b5b9ab42f3c",
   "metadata": {
    "tags": []
   },
   "outputs": [
    {
     "name": "stderr",
     "output_type": "stream",
     "text": [
      "sentencepiece_trainer.cc(177) LOG(INFO) Running command: --input=/home/abrod006/CS733/ag_data.txt --model_prefix=ag --vocab_size=20000 --model_type=unigram\n",
      "sentencepiece_trainer.cc(77) LOG(INFO) Starts training with : \n",
      "trainer_spec {\n",
      "  input: /home/abrod006/CS733/ag_data.txt\n",
      "  input_format: \n",
      "  model_prefix: ag\n",
      "  model_type: UNIGRAM\n",
      "  vocab_size: 20000\n",
      "  self_test_sample_size: 0\n",
      "  character_coverage: 0.9995\n",
      "  input_sentence_size: 0\n",
      "  shuffle_input_sentence: 1\n",
      "  seed_sentencepiece_size: 1000000\n",
      "  shrinking_factor: 0.75\n",
      "  max_sentence_length: 4192\n",
      "  num_threads: 16\n",
      "  num_sub_iterations: 2\n",
      "  max_sentencepiece_length: 16\n",
      "  split_by_unicode_script: 1\n",
      "  split_by_number: 1\n",
      "  split_by_whitespace: 1\n",
      "  split_digits: 0\n",
      "  treat_whitespace_as_suffix: 0\n",
      "  required_chars: \n",
      "  byte_fallback: 0\n",
      "  vocabulary_output_piece_score: 1\n",
      "  train_extremely_large_corpus: 0\n",
      "  hard_vocab_limit: 1\n",
      "  use_all_vocab: 0\n",
      "  unk_id: 0\n",
      "  bos_id: 1\n",
      "  eos_id: 2\n",
      "  pad_id: -1\n",
      "  unk_piece: <unk>\n",
      "  bos_piece: <s>\n",
      "  eos_piece: </s>\n",
      "  pad_piece: <pad>\n",
      "  unk_surface:  ⁇ \n",
      "}\n",
      "normalizer_spec {\n",
      "  name: nmt_nfkc\n",
      "  add_dummy_prefix: 1\n",
      "  remove_extra_whitespaces: 1\n",
      "  escape_whitespaces: 1\n",
      "  normalization_rule_tsv: \n",
      "}\n",
      "denormalizer_spec {}\n",
      "trainer_interface.cc(319) LOG(INFO) SentenceIterator is not specified. Using MultiFileSentenceIterator.\n",
      "trainer_interface.cc(174) LOG(INFO) Loading corpus: /home/abrod006/CS733/ag_data.txt\n",
      "trainer_interface.cc(375) LOG(INFO) Loaded all 120001 sentences\n",
      "trainer_interface.cc(390) LOG(INFO) Adding meta_piece: <unk>\n",
      "trainer_interface.cc(390) LOG(INFO) Adding meta_piece: <s>\n",
      "trainer_interface.cc(390) LOG(INFO) Adding meta_piece: </s>\n",
      "trainer_interface.cc(395) LOG(INFO) Normalizing sentences...\n",
      "trainer_interface.cc(456) LOG(INFO) all chars count=23083809\n",
      "trainer_interface.cc(467) LOG(INFO) Done: 99.9788% characters are covered.\n",
      "trainer_interface.cc(477) LOG(INFO) Alphabet size=48\n",
      "trainer_interface.cc(478) LOG(INFO) Final character coverage=0.999788\n",
      "trainer_interface.cc(510) LOG(INFO) Done! preprocessed 120001 sentences.\n",
      "unigram_model_trainer.cc(138) LOG(INFO) Making suffix array...\n",
      "unigram_model_trainer.cc(142) LOG(INFO) Extracting frequent sub strings...\n",
      "unigram_model_trainer.cc(193) LOG(INFO) Initialized 143279 seed sentencepieces\n",
      "trainer_interface.cc(516) LOG(INFO) Tokenizing input sentences with whitespace: 120001\n",
      "trainer_interface.cc(526) LOG(INFO) Done! 106702\n",
      "unigram_model_trainer.cc(488) LOG(INFO) Using 106702 sentences for EM training\n",
      "unigram_model_trainer.cc(504) LOG(INFO) EM sub_iter=0 size=57377 obj=11.0906 num_tokens=245550 num_tokens/piece=4.27959\n",
      "unigram_model_trainer.cc(504) LOG(INFO) EM sub_iter=1 size=45877 obj=8.90837 num_tokens=246320 num_tokens/piece=5.36914\n",
      "unigram_model_trainer.cc(504) LOG(INFO) EM sub_iter=0 size=34403 obj=8.86493 num_tokens=256410 num_tokens/piece=7.45313\n",
      "unigram_model_trainer.cc(504) LOG(INFO) EM sub_iter=1 size=34388 obj=8.85057 num_tokens=256572 num_tokens/piece=7.46109\n",
      "unigram_model_trainer.cc(504) LOG(INFO) EM sub_iter=0 size=25791 obj=8.89147 num_tokens=275149 num_tokens/piece=10.6684\n",
      "unigram_model_trainer.cc(504) LOG(INFO) EM sub_iter=1 size=25791 obj=8.87991 num_tokens=275128 num_tokens/piece=10.6676\n",
      "unigram_model_trainer.cc(504) LOG(INFO) EM sub_iter=0 size=22000 obj=8.91561 num_tokens=286082 num_tokens/piece=13.0037\n",
      "unigram_model_trainer.cc(504) LOG(INFO) EM sub_iter=1 size=22000 obj=8.90601 num_tokens=286041 num_tokens/piece=13.0019\n",
      "trainer_interface.cc(604) LOG(INFO) Saving model: ag.model\n",
      "trainer_interface.cc(615) LOG(INFO) Saving vocabs: ag.vocab\n"
     ]
    }
   ],
   "source": [
    "generate_sp_model(os.path.join(path,\"ag_data.txt\"), vocab_size=20000, model_prefix='ag');"
   ]
  },
  {
   "cell_type": "code",
   "execution_count": 13,
   "id": "196eefb3-c519-4b46-9ecf-70fb02f71d4d",
   "metadata": {
    "tags": []
   },
   "outputs": [],
   "source": [
    "def yield_tokens(file_path):\n",
    "    with io.open(file_path, encoding='utf-8') as f:\n",
    "        for line in f:\n",
    "            yield [line.split(\"\\t\")[0]]\n",
    "vocab = build_vocab_from_iterator(yield_tokens(\"ag.vocab\"), specials=['<pad>', '<sos>', '<eos>', '<unk>'],special_first=True)\n",
    "\n",
    "vocab.set_default_index(vocab['<unk>'])"
   ]
  },
  {
   "cell_type": "code",
   "execution_count": 14,
   "id": "07abbc1e-81ee-44e3-88e6-0c84738001c1",
   "metadata": {
    "tags": []
   },
   "outputs": [],
   "source": [
    "text_tranform = T.Sequential(\n",
    "    T.SentencePieceTokenizer(\"ag.model\"),\n",
    "    T.VocabTransform(vocab=vocab),\n",
    "    T.AddToken(1, begin=True),\n",
    "    T.Truncate(max_seq_len=max_len),\n",
    "    T.AddToken(2, begin=False),\n",
    "    T.ToTensor(padding_value=0),\n",
    ")"
   ]
  },
  {
   "cell_type": "code",
   "execution_count": 15,
   "id": "5613cb9b-4015-460a-a175-392de3b02e2f",
   "metadata": {
    "tags": []
   },
   "outputs": [],
   "source": [
    "class TokenDrop(nn.Module):\n",
    "    def __init__(self, prob=0.1, pad_token=0, num_special=4):\n",
    "        self.prob = prob\n",
    "        self.num_special = num_special\n",
    "        self.pad_token = pad_token\n",
    "\n",
    "    def __call__(self, sample):\n",
    "        mask = torch.bernoulli(self.prob * torch.ones_like(sample)).long()\n",
    "        can_drop = (sample >= self.num_special).long()\n",
    "        mask = mask * can_drop\n",
    "        replace_with = (self.pad_token * torch.ones_like(sample)).long()\n",
    "        sample_out = (1 - mask) * sample + mask * replace_with\n",
    "        return sample_out"
   ]
  },
  {
   "cell_type": "markdown",
   "id": "8dc31232-36a7-48c0-be7d-630b186301b0",
   "metadata": {},
   "source": [
    "### Encoder Transformer Network"
   ]
  },
  {
   "cell_type": "code",
   "execution_count": 16,
   "id": "dca71643-6e62-4166-845b-fd9430edb7e0",
   "metadata": {
    "tags": []
   },
   "outputs": [],
   "source": [
    "class SinusoidalPosEmb(nn.Module):\n",
    "    def __init__(self, dim):\n",
    "        super().__init__()\n",
    "        self.dim = dim\n",
    "\n",
    "    def forward(self, x):\n",
    "        device = x.device\n",
    "        half_dim = self.dim // 2\n",
    "        emb = math.log(10000) / (half_dim - 1)\n",
    "        emb = torch.exp(torch.arange(half_dim, device=device) * -emb)\n",
    "        emb = x[:, None] * emb[None, :]\n",
    "        emb = torch.cat((emb.sin(), emb.cos()), dim=-1)\n",
    "        return emb\n",
    "\n",
    "class NanoTransformer(nn.Module):\n",
    "    def __init__(self, num_emb, output_size, hidden_size=128, num_heads=4):\n",
    "        super(NanoTransformer, self).__init__()\n",
    "        self.embedding = nn.Embedding(num_emb, hidden_size)\n",
    "        self.embedding.weight.data = 0.001 * self.embedding.weight.data\n",
    "        self.pos_emb = SinusoidalPosEmb(hidden_size)\n",
    "        self.multihead_attn = nn.MultiheadAttention(hidden_size, num_heads=num_heads, batch_first=True)\n",
    "        self.mlp = nn.Sequential(nn.Linear(hidden_size, hidden_size),nn.LayerNorm(hidden_size),nn.ELU(),nn.Linear(hidden_size, hidden_size))\n",
    "        self.fc_out = nn.Linear(hidden_size, output_size)\n",
    "\n",
    "    def forward(self, input_seq):\n",
    "        bs, l = input_seq.shape\n",
    "        input_embs = self.embedding(input_seq)\n",
    "        seq_indx = torch.arange(l, device=input_seq.device)\n",
    "        pos_emb = self.pos_emb(seq_indx).reshape(1, l, -1).expand(bs, l, -1)\n",
    "        embs = input_embs + pos_emb\n",
    "        output, attn_map = self.multihead_attn(embs, embs, embs)\n",
    "\n",
    "        output = self.mlp(output)\n",
    "\n",
    "        return self.fc_out(output), attn_map"
   ]
  },
  {
   "cell_type": "markdown",
   "id": "d98745d5-9f9e-4d1a-9c75-af845a0a18a6",
   "metadata": {},
   "source": [
    "### Start model and Optimizer"
   ]
  },
  {
   "cell_type": "code",
   "execution_count": 17,
   "id": "53ec3c10-f852-4fdc-a348-5b4179b51a1b",
   "metadata": {
    "tags": []
   },
   "outputs": [],
   "source": [
    "device = torch.device(0 if torch.cuda.is_available() else 'cpu')\n",
    "hidden_size = 256\n",
    "\n",
    "tf_classifier = NanoTransformer(num_emb=len(vocab), output_size=4, hidden_size=hidden_size, num_heads=4).to(device)\n",
    "\n",
    "optimizer = optim.Adam(tf_classifier.parameters(), lr=learning_rate)\n",
    "\n",
    "lr_scheduler = optim.lr_scheduler.CosineAnnealingLR(optimizer, T_max=nepochs,eta_min=0)\n",
    "\n",
    "loss_fn = nn.CrossEntropyLoss()\n",
    "\n",
    "td = TokenDrop(prob=0.5)\n",
    "\n",
    "training_loss_logger = []\n",
    "test_loss_logger = []\n",
    "\n",
    "training_acc_logger = []\n",
    "test_acc_logger = []"
   ]
  },
  {
   "cell_type": "markdown",
   "id": "64a56dc5-875e-4812-86e5-b9cffc867469",
   "metadata": {},
   "source": [
    "### Train Model"
   ]
  },
  {
   "cell_type": "code",
   "execution_count": 18,
   "id": "f657175c-d13d-4399-b1dc-c5b5a3aef0e1",
   "metadata": {
    "tags": []
   },
   "outputs": [
    {
     "data": {
      "application/json": {
       "ascii": false,
       "bar_format": null,
       "colour": null,
       "elapsed": 0.02814650535583496,
       "initial": 0,
       "n": 0,
       "ncols": null,
       "nrows": null,
       "postfix": null,
       "prefix": "Epoch",
       "rate": null,
       "total": 10,
       "unit": "it",
       "unit_divisor": 1000,
       "unit_scale": false
      },
      "application/vnd.jupyter.widget-view+json": {
       "model_id": "5164eaca950e47428a2784a04809dc22",
       "version_major": 2,
       "version_minor": 0
      },
      "text/plain": [
       "Epoch:   0%|          | 0/10 [00:00<?, ?it/s]"
      ]
     },
     "metadata": {},
     "output_type": "display_data"
    },
    {
     "data": {
      "application/json": {
       "ascii": false,
       "bar_format": null,
       "colour": null,
       "elapsed": 0.024552583694458008,
       "initial": 0,
       "n": 0,
       "ncols": null,
       "nrows": null,
       "postfix": null,
       "prefix": "Training",
       "rate": null,
       "total": 1875,
       "unit": "it",
       "unit_divisor": 1000,
       "unit_scale": false
      },
      "application/vnd.jupyter.widget-view+json": {
       "model_id": "10f81254c633475a9e5165aaa1c896d0",
       "version_major": 2,
       "version_minor": 0
      },
      "text/plain": [
       "Training:   0%|          | 0/1875 [00:00<?, ?it/s]"
      ]
     },
     "metadata": {},
     "output_type": "display_data"
    },
    {
     "data": {
      "application/json": {
       "ascii": false,
       "bar_format": null,
       "colour": null,
       "elapsed": 0.06695127487182617,
       "initial": 0,
       "n": 0,
       "ncols": null,
       "nrows": null,
       "postfix": null,
       "prefix": "Testing",
       "rate": null,
       "total": 76,
       "unit": "it",
       "unit_divisor": 1000,
       "unit_scale": false
      },
      "application/vnd.jupyter.widget-view+json": {
       "model_id": "41cae9bb95b04bbd9d4c8430e475298d",
       "version_major": 2,
       "version_minor": 0
      },
      "text/plain": [
       "Testing:   0%|          | 0/76 [00:00<?, ?it/s]"
      ]
     },
     "metadata": {},
     "output_type": "display_data"
    },
    {
     "data": {
      "application/json": {
       "ascii": false,
       "bar_format": null,
       "colour": null,
       "elapsed": 0.024978160858154297,
       "initial": 0,
       "n": 0,
       "ncols": null,
       "nrows": null,
       "postfix": null,
       "prefix": "Training",
       "rate": null,
       "total": 1875,
       "unit": "it",
       "unit_divisor": 1000,
       "unit_scale": false
      },
      "application/vnd.jupyter.widget-view+json": {
       "model_id": "4846937875d240989ba01d5f8e2bf42b",
       "version_major": 2,
       "version_minor": 0
      },
      "text/plain": [
       "Training:   0%|          | 0/1875 [00:00<?, ?it/s]"
      ]
     },
     "metadata": {},
     "output_type": "display_data"
    },
    {
     "data": {
      "application/json": {
       "ascii": false,
       "bar_format": null,
       "colour": null,
       "elapsed": 0.02533102035522461,
       "initial": 0,
       "n": 0,
       "ncols": null,
       "nrows": null,
       "postfix": null,
       "prefix": "Testing",
       "rate": null,
       "total": 76,
       "unit": "it",
       "unit_divisor": 1000,
       "unit_scale": false
      },
      "application/vnd.jupyter.widget-view+json": {
       "model_id": "359b874a87f046618971a37bbb634b90",
       "version_major": 2,
       "version_minor": 0
      },
      "text/plain": [
       "Testing:   0%|          | 0/76 [00:00<?, ?it/s]"
      ]
     },
     "metadata": {},
     "output_type": "display_data"
    },
    {
     "data": {
      "application/json": {
       "ascii": false,
       "bar_format": null,
       "colour": null,
       "elapsed": 0.024962902069091797,
       "initial": 0,
       "n": 0,
       "ncols": null,
       "nrows": null,
       "postfix": null,
       "prefix": "Training",
       "rate": null,
       "total": 1875,
       "unit": "it",
       "unit_divisor": 1000,
       "unit_scale": false
      },
      "application/vnd.jupyter.widget-view+json": {
       "model_id": "207f8d58832d46558a9705ed7f3591ef",
       "version_major": 2,
       "version_minor": 0
      },
      "text/plain": [
       "Training:   0%|          | 0/1875 [00:00<?, ?it/s]"
      ]
     },
     "metadata": {},
     "output_type": "display_data"
    },
    {
     "data": {
      "application/json": {
       "ascii": false,
       "bar_format": null,
       "colour": null,
       "elapsed": 0.0250704288482666,
       "initial": 0,
       "n": 0,
       "ncols": null,
       "nrows": null,
       "postfix": null,
       "prefix": "Testing",
       "rate": null,
       "total": 76,
       "unit": "it",
       "unit_divisor": 1000,
       "unit_scale": false
      },
      "application/vnd.jupyter.widget-view+json": {
       "model_id": "1ee99b1774b141fcb955f098d46113e8",
       "version_major": 2,
       "version_minor": 0
      },
      "text/plain": [
       "Testing:   0%|          | 0/76 [00:00<?, ?it/s]"
      ]
     },
     "metadata": {},
     "output_type": "display_data"
    },
    {
     "data": {
      "application/json": {
       "ascii": false,
       "bar_format": null,
       "colour": null,
       "elapsed": 0.025062084197998047,
       "initial": 0,
       "n": 0,
       "ncols": null,
       "nrows": null,
       "postfix": null,
       "prefix": "Training",
       "rate": null,
       "total": 1875,
       "unit": "it",
       "unit_divisor": 1000,
       "unit_scale": false
      },
      "application/vnd.jupyter.widget-view+json": {
       "model_id": "f759f0e15e1949c3b1c1016ca74e86cd",
       "version_major": 2,
       "version_minor": 0
      },
      "text/plain": [
       "Training:   0%|          | 0/1875 [00:00<?, ?it/s]"
      ]
     },
     "metadata": {},
     "output_type": "display_data"
    },
    {
     "data": {
      "application/json": {
       "ascii": false,
       "bar_format": null,
       "colour": null,
       "elapsed": 0.0507054328918457,
       "initial": 0,
       "n": 0,
       "ncols": null,
       "nrows": null,
       "postfix": null,
       "prefix": "Testing",
       "rate": null,
       "total": 76,
       "unit": "it",
       "unit_divisor": 1000,
       "unit_scale": false
      },
      "application/vnd.jupyter.widget-view+json": {
       "model_id": "2ba5ff83671e44d9a2c27e48f87d697f",
       "version_major": 2,
       "version_minor": 0
      },
      "text/plain": [
       "Testing:   0%|          | 0/76 [00:00<?, ?it/s]"
      ]
     },
     "metadata": {},
     "output_type": "display_data"
    },
    {
     "data": {
      "application/json": {
       "ascii": false,
       "bar_format": null,
       "colour": null,
       "elapsed": 0.024737834930419922,
       "initial": 0,
       "n": 0,
       "ncols": null,
       "nrows": null,
       "postfix": null,
       "prefix": "Training",
       "rate": null,
       "total": 1875,
       "unit": "it",
       "unit_divisor": 1000,
       "unit_scale": false
      },
      "application/vnd.jupyter.widget-view+json": {
       "model_id": "43c058ea63574547ad96ac2723092e18",
       "version_major": 2,
       "version_minor": 0
      },
      "text/plain": [
       "Training:   0%|          | 0/1875 [00:00<?, ?it/s]"
      ]
     },
     "metadata": {},
     "output_type": "display_data"
    },
    {
     "data": {
      "application/json": {
       "ascii": false,
       "bar_format": null,
       "colour": null,
       "elapsed": 0.025290489196777344,
       "initial": 0,
       "n": 0,
       "ncols": null,
       "nrows": null,
       "postfix": null,
       "prefix": "Testing",
       "rate": null,
       "total": 76,
       "unit": "it",
       "unit_divisor": 1000,
       "unit_scale": false
      },
      "application/vnd.jupyter.widget-view+json": {
       "model_id": "2845cf231ff74605b4d5227c0d18c7ae",
       "version_major": 2,
       "version_minor": 0
      },
      "text/plain": [
       "Testing:   0%|          | 0/76 [00:00<?, ?it/s]"
      ]
     },
     "metadata": {},
     "output_type": "display_data"
    },
    {
     "data": {
      "application/json": {
       "ascii": false,
       "bar_format": null,
       "colour": null,
       "elapsed": 0.025090932846069336,
       "initial": 0,
       "n": 0,
       "ncols": null,
       "nrows": null,
       "postfix": null,
       "prefix": "Training",
       "rate": null,
       "total": 1875,
       "unit": "it",
       "unit_divisor": 1000,
       "unit_scale": false
      },
      "application/vnd.jupyter.widget-view+json": {
       "model_id": "84bbdf7571a947fd9b836f0fdc38ed47",
       "version_major": 2,
       "version_minor": 0
      },
      "text/plain": [
       "Training:   0%|          | 0/1875 [00:00<?, ?it/s]"
      ]
     },
     "metadata": {},
     "output_type": "display_data"
    },
    {
     "data": {
      "application/json": {
       "ascii": false,
       "bar_format": null,
       "colour": null,
       "elapsed": 0.025205135345458984,
       "initial": 0,
       "n": 0,
       "ncols": null,
       "nrows": null,
       "postfix": null,
       "prefix": "Testing",
       "rate": null,
       "total": 76,
       "unit": "it",
       "unit_divisor": 1000,
       "unit_scale": false
      },
      "application/vnd.jupyter.widget-view+json": {
       "model_id": "875704624d3e460ea5b040455daf1e36",
       "version_major": 2,
       "version_minor": 0
      },
      "text/plain": [
       "Testing:   0%|          | 0/76 [00:00<?, ?it/s]"
      ]
     },
     "metadata": {},
     "output_type": "display_data"
    },
    {
     "data": {
      "application/json": {
       "ascii": false,
       "bar_format": null,
       "colour": null,
       "elapsed": 0.02513885498046875,
       "initial": 0,
       "n": 0,
       "ncols": null,
       "nrows": null,
       "postfix": null,
       "prefix": "Training",
       "rate": null,
       "total": 1875,
       "unit": "it",
       "unit_divisor": 1000,
       "unit_scale": false
      },
      "application/vnd.jupyter.widget-view+json": {
       "model_id": "c06749c8b55948aa931c43314453d6bc",
       "version_major": 2,
       "version_minor": 0
      },
      "text/plain": [
       "Training:   0%|          | 0/1875 [00:00<?, ?it/s]"
      ]
     },
     "metadata": {},
     "output_type": "display_data"
    },
    {
     "data": {
      "application/json": {
       "ascii": false,
       "bar_format": null,
       "colour": null,
       "elapsed": 0.025118350982666016,
       "initial": 0,
       "n": 0,
       "ncols": null,
       "nrows": null,
       "postfix": null,
       "prefix": "Testing",
       "rate": null,
       "total": 76,
       "unit": "it",
       "unit_divisor": 1000,
       "unit_scale": false
      },
      "application/vnd.jupyter.widget-view+json": {
       "model_id": "fa3b6de894b54d3c8ef62e925e14b6a9",
       "version_major": 2,
       "version_minor": 0
      },
      "text/plain": [
       "Testing:   0%|          | 0/76 [00:00<?, ?it/s]"
      ]
     },
     "metadata": {},
     "output_type": "display_data"
    },
    {
     "data": {
      "application/json": {
       "ascii": false,
       "bar_format": null,
       "colour": null,
       "elapsed": 0.0250093936920166,
       "initial": 0,
       "n": 0,
       "ncols": null,
       "nrows": null,
       "postfix": null,
       "prefix": "Training",
       "rate": null,
       "total": 1875,
       "unit": "it",
       "unit_divisor": 1000,
       "unit_scale": false
      },
      "application/vnd.jupyter.widget-view+json": {
       "model_id": "26d29ecc56d543f39de3aff580fd96ed",
       "version_major": 2,
       "version_minor": 0
      },
      "text/plain": [
       "Training:   0%|          | 0/1875 [00:00<?, ?it/s]"
      ]
     },
     "metadata": {},
     "output_type": "display_data"
    },
    {
     "data": {
      "application/json": {
       "ascii": false,
       "bar_format": null,
       "colour": null,
       "elapsed": 0.02556157112121582,
       "initial": 0,
       "n": 0,
       "ncols": null,
       "nrows": null,
       "postfix": null,
       "prefix": "Testing",
       "rate": null,
       "total": 76,
       "unit": "it",
       "unit_divisor": 1000,
       "unit_scale": false
      },
      "application/vnd.jupyter.widget-view+json": {
       "model_id": "e41e0e6c7c884ea194b29a4acfc9b61e",
       "version_major": 2,
       "version_minor": 0
      },
      "text/plain": [
       "Testing:   0%|          | 0/76 [00:00<?, ?it/s]"
      ]
     },
     "metadata": {},
     "output_type": "display_data"
    },
    {
     "data": {
      "application/json": {
       "ascii": false,
       "bar_format": null,
       "colour": null,
       "elapsed": 0.025046586990356445,
       "initial": 0,
       "n": 0,
       "ncols": null,
       "nrows": null,
       "postfix": null,
       "prefix": "Training",
       "rate": null,
       "total": 1875,
       "unit": "it",
       "unit_divisor": 1000,
       "unit_scale": false
      },
      "application/vnd.jupyter.widget-view+json": {
       "model_id": "7c8f8c1f17704aac8d1568e30181ecf3",
       "version_major": 2,
       "version_minor": 0
      },
      "text/plain": [
       "Training:   0%|          | 0/1875 [00:00<?, ?it/s]"
      ]
     },
     "metadata": {},
     "output_type": "display_data"
    },
    {
     "data": {
      "application/json": {
       "ascii": false,
       "bar_format": null,
       "colour": null,
       "elapsed": 0.025209665298461914,
       "initial": 0,
       "n": 0,
       "ncols": null,
       "nrows": null,
       "postfix": null,
       "prefix": "Testing",
       "rate": null,
       "total": 76,
       "unit": "it",
       "unit_divisor": 1000,
       "unit_scale": false
      },
      "application/vnd.jupyter.widget-view+json": {
       "model_id": "5a45a8fdd4bf41ec9ca40dbe3fcd6285",
       "version_major": 2,
       "version_minor": 0
      },
      "text/plain": [
       "Testing:   0%|          | 0/76 [00:00<?, ?it/s]"
      ]
     },
     "metadata": {},
     "output_type": "display_data"
    },
    {
     "data": {
      "application/json": {
       "ascii": false,
       "bar_format": null,
       "colour": null,
       "elapsed": 0.025144338607788086,
       "initial": 0,
       "n": 0,
       "ncols": null,
       "nrows": null,
       "postfix": null,
       "prefix": "Training",
       "rate": null,
       "total": 1875,
       "unit": "it",
       "unit_divisor": 1000,
       "unit_scale": false
      },
      "application/vnd.jupyter.widget-view+json": {
       "model_id": "27771e04a21745d5bad34ad04152ca4e",
       "version_major": 2,
       "version_minor": 0
      },
      "text/plain": [
       "Training:   0%|          | 0/1875 [00:00<?, ?it/s]"
      ]
     },
     "metadata": {},
     "output_type": "display_data"
    },
    {
     "data": {
      "application/json": {
       "ascii": false,
       "bar_format": null,
       "colour": null,
       "elapsed": 0.025141239166259766,
       "initial": 0,
       "n": 0,
       "ncols": null,
       "nrows": null,
       "postfix": null,
       "prefix": "Testing",
       "rate": null,
       "total": 76,
       "unit": "it",
       "unit_divisor": 1000,
       "unit_scale": false
      },
      "application/vnd.jupyter.widget-view+json": {
       "model_id": "4d51b0ef46274787961137d8a83cc070",
       "version_major": 2,
       "version_minor": 0
      },
      "text/plain": [
       "Testing:   0%|          | 0/76 [00:00<?, ?it/s]"
      ]
     },
     "metadata": {},
     "output_type": "display_data"
    }
   ],
   "source": [
    "pbar = trange(0, nepochs, leave=False, desc=\"Epoch\")\n",
    "train_acc = 0\n",
    "test_acc = 0\n",
    "\n",
    "for epoch in pbar:\n",
    "    train_acc_count = 0\n",
    "    test_acc_count = 0\n",
    "    \n",
    "    pbar.set_postfix_str('Accuracy: Train %.2f%%, Test %.2f%%' % (train_acc * 100, test_acc * 100))\n",
    "    \n",
    "    tf_classifier.train()\n",
    "    steps = 0\n",
    "    \n",
    "    for label, text in tqdm(ag_data_loader_train, desc=\"Training\", leave=False):\n",
    "        bs = label.shape[0]\n",
    "        text_tokens = text_tranform(list(text)).to(device)\n",
    "        label = label.to(device)\n",
    "\n",
    "        text_tokens = td(text_tokens)\n",
    "\n",
    "        pred, _ = tf_classifier(text_tokens)\n",
    "\n",
    "        loss = loss_fn(pred[:, 0, :], label)\n",
    "        \n",
    "        optimizer.zero_grad()\n",
    "        loss.backward()\n",
    "        optimizer.step()\n",
    "        \n",
    "        training_loss_logger.append(loss.item())\n",
    "        \n",
    "        train_acc_count += (pred[:, 0, :].argmax(1) == label).sum()\n",
    "        steps += bs\n",
    "            \n",
    "    train_acc = (train_acc_count / steps).item()\n",
    "    training_acc_logger.append(train_acc)\n",
    "    \n",
    "    lr_scheduler.step()\n",
    "    \n",
    "    tf_classifier.eval()\n",
    "    steps = 0\n",
    "    \n",
    "    with torch.no_grad():\n",
    "        for label, text in tqdm(ag_data_loader_test, desc=\"Testing\", leave=False):\n",
    "            bs = label.shape[0]\n",
    "            \n",
    "            text_tokens = text_tranform(list(text)).to(device)\n",
    "            label = label.to(device)\n",
    "\n",
    "            pred, _ = tf_classifier(text_tokens)\n",
    "\n",
    "            loss = loss_fn(pred[:, 0, :], label)\n",
    "            test_loss_logger.append(loss.item())\n",
    "\n",
    "            test_acc_count += (pred[:, 0, :].argmax(1) == label).sum()\n",
    "            steps += bs\n",
    "\n",
    "        test_acc = (test_acc_count / steps).item()\n",
    "        test_acc_logger.append(test_acc)"
   ]
  },
  {
   "cell_type": "markdown",
   "id": "34212dc1-7bee-42b9-97ac-24e224ba788c",
   "metadata": {
    "tags": []
   },
   "source": [
    "#### Save model for future use"
   ]
  },
  {
   "cell_type": "code",
   "execution_count": 21,
   "id": "5f72c49d-7d95-4cdb-af2d-188552833ffe",
   "metadata": {
    "tags": []
   },
   "outputs": [],
   "source": [
    "torch.save(tf_classifier.state_dict(), 'broderick_encoder_model.pth')"
   ]
  },
  {
   "cell_type": "code",
   "execution_count": 22,
   "id": "66a3635d-2f37-492c-b401-d33d2ee6cf93",
   "metadata": {
    "tags": []
   },
   "outputs": [
    {
     "data": {
      "text/plain": [
       "NanoTransformer(\n",
       "  (embedding): Embedding(20003, 256)\n",
       "  (pos_emb): SinusoidalPosEmb()\n",
       "  (multihead_attn): MultiheadAttention(\n",
       "    (out_proj): NonDynamicallyQuantizableLinear(in_features=256, out_features=256, bias=True)\n",
       "  )\n",
       "  (mlp): Sequential(\n",
       "    (0): Linear(in_features=256, out_features=256, bias=True)\n",
       "    (1): LayerNorm((256,), eps=1e-05, elementwise_affine=True)\n",
       "    (2): ELU(alpha=1.0)\n",
       "    (3): Linear(in_features=256, out_features=256, bias=True)\n",
       "  )\n",
       "  (fc_out): Linear(in_features=256, out_features=4, bias=True)\n",
       ")"
      ]
     },
     "execution_count": 22,
     "metadata": {},
     "output_type": "execute_result"
    }
   ],
   "source": [
    "vocab = build_vocab_from_iterator(yield_tokens(\"ag.vocab\"), specials=['<pad>', '<sos>', '<eos>', '<unk>'], special_first=True)\n",
    "new_model = NanoTransformer(len(vocab), 4, 256, 4)\n",
    "new_model.load_state_dict(torch.load('broderick_encoder_model.pth'))\n",
    "new_model.eval()"
   ]
  },
  {
   "cell_type": "markdown",
   "id": "991bd8a7-12b7-40db-aec5-36c268336580",
   "metadata": {},
   "source": [
    "### Test Model"
   ]
  },
  {
   "cell_type": "code",
   "execution_count": 19,
   "id": "55f0b63c-5ca1-4640-9712-e309237d503b",
   "metadata": {
    "tags": []
   },
   "outputs": [],
   "source": [
    "ag_news_classes = [\n",
    "    \"World\",\n",
    "    \"Sports\",\n",
    "    \"Business\",\n",
    "    \"Science/Technology\"\n",
    "]\n",
    "\n",
    "with torch.no_grad():\n",
    "    label, text = next(iter(ag_data_loader_test))\n",
    "    text_tokens = text_tranform(list(text)).to(device)\n",
    "    pred, attention_map = tf_classifier(text_tokens)"
   ]
  },
  {
   "cell_type": "code",
   "execution_count": 36,
   "id": "d2ffe160-6c01-47a4-8ca2-092ecfb2e4b3",
   "metadata": {
    "tags": []
   },
   "outputs": [
    {
     "name": "stdout",
     "output_type": "stream",
     "text": [
      "Article:\n",
      "company is expanding production to deliver more flat-panel tvs.\n",
      "\n",
      "Predicted label:\n",
      "Science/Technology\n",
      "True label:\n",
      "Science/Technology\n"
     ]
    }
   ],
   "source": [
    "test_index = 22\n",
    "\n",
    "att_map = attention_map[test_index, 0]\n",
    "pred_class = ag_news_classes[pred[test_index, -1].argmax().item()]\n",
    "top5 = att_map.argsort(descending=True)[:5]\n",
    "top5_tokens = vocab.lookup_tokens(text_tokens[test_index, top5].cpu().numpy())\n",
    "\n",
    "print(\"Article:\")\n",
    "print(text[test_index])\n",
    "print(\"\\nPredicted label:\")\n",
    "print(pred_class)\n",
    "print(\"True label:\")\n",
    "print(ag_news_classes[label[test_index].item()])"
   ]
  },
  {
   "cell_type": "markdown",
   "id": "aa8c0ed3-37a4-4cf5-902c-48a7ab41b334",
   "metadata": {},
   "source": [
    "### Model Metric Plots"
   ]
  },
  {
   "cell_type": "code",
   "execution_count": 23,
   "id": "1338ccea-217d-4d62-b757-17cbdf256fb1",
   "metadata": {
    "tags": []
   },
   "outputs": [
    {
     "data": {
      "image/png": "[encoded data removed]",
      "text/plain": [
       "<Figure size 1000x500 with 1 Axes>"
      ]
     },
     "metadata": {},
     "output_type": "display_data"
    }
   ],
   "source": [
    "plt.figure(figsize=(10, 5))\n",
    "\n",
    "plt.plot(np.linspace(0, nepochs, len(training_loss_logger)), training_loss_logger)\n",
    "plt.plot(np.linspace(0, nepochs, len(test_loss_logger)), test_loss_logger)\n",
    "\n",
    "plt.legend([\"Train\", \"Test\"])\n",
    "plt.title(\"Training Vs Test Loss\")\n",
    "plt.xlabel(\"Epochs\")\n",
    "plt.ylabel(\"Loss\")\n",
    "\n",
    "plt.show()"
   ]
  },
  {
   "cell_type": "code",
   "execution_count": 24,
   "id": "12d068fd-4ced-44c3-897b-ef5996950328",
   "metadata": {
    "tags": []
   },
   "outputs": [
    {
     "data": {
      "image/png": "[encoded data removed]",
      "text/plain": [
       "<Figure size 1000x500 with 1 Axes>"
      ]
     },
     "metadata": {},
     "output_type": "display_data"
    }
   ],
   "source": [
    "plt.figure(figsize=(10, 5))\n",
    "plt.plot(np.linspace(0, nepochs, len(training_acc_logger)), training_acc_logger)\n",
    "plt.plot(np.linspace(0, nepochs, len(test_acc_logger)), test_acc_logger)\n",
    "\n",
    "plt.legend([\"Train\", \"Test\"])\n",
    "plt.title(\"Training Vs Test Accuracy\")\n",
    "plt.xlabel(\"Epochs\")\n",
    "plt.ylabel(\"Accuracy\")\n",
    "\n",
    "plt.show()"
   ]
  },
  {
   "cell_type": "markdown",
   "id": "a90dca26-7633-4265-9e3c-125234cab784",
   "metadata": {},
   "source": [
    "### Evaluation Metrics"
   ]
  },
  {
   "cell_type": "code",
   "execution_count": 25,
   "id": "82216282-baf2-4377-8297-dcb8757ff08d",
   "metadata": {
    "tags": []
   },
   "outputs": [],
   "source": [
    "title = []\n",
    "actual = []\n",
    "predictions = []\n",
    "with torch.no_grad():\n",
    "    for data in ag_data_loader_test:\n",
    "        label, text = data\n",
    "        text_tokens = text_tranform(list(text)).to(device)\n",
    "        pred, attention_map = tf_classifier(text_tokens)\n",
    "        for i in range(0,len(label)):\n",
    "            pred_class = pred[i, -1].argmax().item()\n",
    "            title.extend([text[i]])\n",
    "            actual.extend([label[i].item()])\n",
    "            predictions.extend([pred_class])"
   ]
  },
  {
   "cell_type": "code",
   "execution_count": 31,
   "id": "57bf984d-2c8c-4cf5-b895-839304b1bba8",
   "metadata": {},
   "outputs": [
    {
     "name": "stdout",
     "output_type": "stream",
     "text": [
      "                    precision    recall  f1-score   support\n",
      "\n",
      "             World       0.91      0.82      0.86      1900\n",
      "            Sports       0.98      0.71      0.82      1900\n",
      "          Business       0.94      0.62      0.75      1900\n",
      "Science/Technology       0.57      0.98      0.72      1900\n",
      "\n",
      "          accuracy                           0.78      7600\n",
      "         macro avg       0.85      0.78      0.79      7600\n",
      "      weighted avg       0.85      0.78      0.79      7600\n",
      "\n"
     ]
    }
   ],
   "source": [
    "print(classification_report(actual, predictions, target_names=ag_news_classes))"
   ]
  },
  {
   "cell_type": "code",
   "execution_count": 32,
   "id": "322f967a-bbff-4670-81df-14a2b71bbf27",
   "metadata": {
    "tags": []
   },
   "outputs": [
    {
     "name": "stdout",
     "output_type": "stream",
     "text": [
      "Accuracy: 0.780921052631579\n"
     ]
    }
   ],
   "source": [
    "accuracy = accuracy_score(actual, predictions)\n",
    "print(\"Accuracy:\", accuracy)"
   ]
  },
  {
   "cell_type": "code",
   "execution_count": 33,
   "id": "1ba35c28-61ea-4c49-bd05-28d038a3ce7f",
   "metadata": {
    "tags": []
   },
   "outputs": [
    {
     "name": "stdout",
     "output_type": "stream",
     "text": [
      "Precision: 0.780921052631579\n"
     ]
    }
   ],
   "source": [
    "precision = precision_score(actual, predictions, average = 'micro')\n",
    "print(\"Precision:\", precision)"
   ]
  },
  {
   "cell_type": "code",
   "execution_count": 34,
   "id": "9798dfcc-3618-429d-a538-8e577f123000",
   "metadata": {
    "tags": []
   },
   "outputs": [
    {
     "name": "stdout",
     "output_type": "stream",
     "text": [
      "Recall: 0.780921052631579\n"
     ]
    }
   ],
   "source": [
    "recall = recall_score(actual, predictions, average = 'micro')\n",
    "print(\"Recall:\", recall)"
   ]
  },
  {
   "cell_type": "code",
   "execution_count": 35,
   "id": "47e3db62-631a-4f4c-a38d-1e0c0341f7ac",
   "metadata": {
    "tags": []
   },
   "outputs": [
    {
     "name": "stdout",
     "output_type": "stream",
     "text": [
      "F1-score: 0.780921052631579\n"
     ]
    }
   ],
   "source": [
    "f1 = f1_score(actual, predictions, average = 'micro')\n",
    "print(\"F1-score:\", f1)"
   ]
  },
  {
   "cell_type": "code",
   "execution_count": 29,
   "id": "f2d47145-0739-4265-854a-73fc24e170a6",
   "metadata": {
    "tags": []
   },
   "outputs": [
    {
     "data": {
      "image/png": "[encoded data removed]",
      "text/plain": [
       "<Figure size 640x480 with 2 Axes>"
      ]
     },
     "metadata": {},
     "output_type": "display_data"
    }
   ],
   "source": [
    "cm = confusion_matrix(actual, predictions)\n",
    "\n",
    "ax= plt.subplot()\n",
    "\n",
    "sns.heatmap(cm, annot=True, fmt='d', cmap='Blues')\n",
    "ax.set_xlabel('Predicted labels');ax.set_ylabel('True labels'); \n",
    "ax.set_title('Confusion Matrix');\n",
    "ax.xaxis.set_ticklabels(ag_news_classes); ax.yaxis.set_ticklabels(ag_news_classes);\n",
    "ax.tick_params(axis='x', labelrotation=45); ax.tick_params(axis='y', labelrotation=45);\n",
    "plt.show()"
   ]
  }
 ],
 "metadata": {
  "kernelspec": {
   "display_name": "Python 3 (ipykernel)",
   "language": "python",
   "name": "python3"
  },
  "language_info": {
   "codemirror_mode": {
    "name": "ipython",
    "version": 3
   },
   "file_extension": ".py",
   "mimetype": "text/x-python",
   "name": "python",
   "nbconvert_exporter": "python",
   "pygments_lexer": "ipython3",
   "version": "3.7.13"
  }
 },
 "nbformat": 4,
 "nbformat_minor": 5
}
